{
 "cells": [
  {
   "cell_type": "markdown",
   "id": "bb06ea70",
   "metadata": {},
   "source": [
    "# User Utterance Identifier\n",
    "The utterance from the user needs to be identified as ont of the target labels\n",
    "\n",
    "Description of the data set :-\n",
    "\n",
    "    1. Questions :- Uttered words/test from the users\n",
    "\n",
    "    2. Tags :- tags/label related to those utter words or questions "
   ]
  },
  {
   "cell_type": "code",
   "execution_count": 35,
   "id": "307bef5c",
   "metadata": {},
   "outputs": [],
   "source": [
    "import pandas as pd\n",
    "import numpy as np\n",
    "import tensorflow\n",
    "import nltk\n",
    "import string\n",
    "import matplotlib.pyplot as plt\n",
    "from bs4 import BeautifulSoup as bs\n",
    "import seaborn as sns\n",
    "from sklearn.feature_extraction.text import TfidfTransformer\n",
    "from sklearn.feature_extraction.text import TfidfVectorizer\n",
    "from sklearn import metrics\n",
    "import re\n",
    "from sklearn.feature_extraction.text import CountVectorizer\n",
    "from sklearn.metrics import confusion_matrix\n",
    "from sklearn import metrics\n",
    "from sklearn.metrics import roc_curve, auc\n",
    "from nltk.stem.porter import PorterStemmer\n",
    "from nltk.corpus import stopwords\n",
    "from sklearn.model_selection import cross_val_predict\n",
    "from sklearn.model_selection import StratifiedKFold\n",
    "from sklearn.model_selection import train_test_split\n",
    "from sklearn.linear_model import LogisticRegression\n",
    "from sklearn.metrics import log_loss, accuracy_score\n",
    "from sklearn.feature_extraction.text import CountVectorizer\n",
    "from sklearn.feature_extraction.text import TfidfVectorizer\n",
    "from sklearn.svm import SVC\n",
    "from sklearn.decomposition import NMF\n",
    "from sklearn.decomposition import TruncatedSVD\n",
    "from sklearn.ensemble import RandomForestClassifier\n",
    "from sklearn.preprocessing import LabelEncoder\n",
    "from tensorflow import keras\n",
    "import gensim\n",
    "import os\n",
    "import scikitplot.plotters as skplt\n",
    "import nltk\n",
    "from imblearn.pipeline import Pipeline, make_pipeline\n",
    "from imblearn.over_sampling import SMOTE\n",
    "from imblearn.over_sampling import RandomOverSampler\n",
    "from sklearn.metrics import classification_report\n",
    "import warnings \n",
    "warnings.filterwarnings(\"ignore\") "
   ]
  },
  {
   "cell_type": "code",
   "execution_count": 6,
   "id": "0b7efad1",
   "metadata": {},
   "outputs": [],
   "source": [
    "#Loading the dataset into data frame or table\n",
    "utter_data = pd.read_csv('utterance_id.csv')"
   ]
  },
  {
   "cell_type": "code",
   "execution_count": 7,
   "id": "cba9e2d4",
   "metadata": {},
   "outputs": [
    {
     "data": {
      "text/plain": [
       "'Show me all employees skilled in asana tool\\n'"
      ]
     },
     "execution_count": 7,
     "metadata": {},
     "output_type": "execute_result"
    }
   ],
   "source": [
    "#Randomly checking a row\n",
    "utter_data.question[4400]"
   ]
  },
  {
   "cell_type": "code",
   "execution_count": 8,
   "id": "87f1cb3e",
   "metadata": {},
   "outputs": [
    {
     "data": {
      "text/plain": [
       "(4597, 3)"
      ]
     },
     "execution_count": 8,
     "metadata": {},
     "output_type": "execute_result"
    }
   ],
   "source": [
    "#Checking shape of the data set\n",
    "utter_data.shape"
   ]
  },
  {
   "cell_type": "code",
   "execution_count": 9,
   "id": "5f271055",
   "metadata": {},
   "outputs": [
    {
     "data": {
      "text/html": [
       "<div>\n",
       "<style scoped>\n",
       "    .dataframe tbody tr th:only-of-type {\n",
       "        vertical-align: middle;\n",
       "    }\n",
       "\n",
       "    .dataframe tbody tr th {\n",
       "        vertical-align: top;\n",
       "    }\n",
       "\n",
       "    .dataframe thead th {\n",
       "        text-align: right;\n",
       "    }\n",
       "</style>\n",
       "<table border=\"1\" class=\"dataframe\">\n",
       "  <thead>\n",
       "    <tr style=\"text-align: right;\">\n",
       "      <th></th>\n",
       "      <th>Unnamed: 0</th>\n",
       "      <th>question</th>\n",
       "      <th>tags</th>\n",
       "    </tr>\n",
       "  </thead>\n",
       "  <tbody>\n",
       "    <tr>\n",
       "      <th>0</th>\n",
       "      <td>0</td>\n",
       "      <td>List email from Richa?</td>\n",
       "      <td>Email</td>\n",
       "    </tr>\n",
       "    <tr>\n",
       "      <th>1</th>\n",
       "      <td>1</td>\n",
       "      <td>What did robert write to me regarding overview...</td>\n",
       "      <td>Email</td>\n",
       "    </tr>\n",
       "    <tr>\n",
       "      <th>2</th>\n",
       "      <td>2</td>\n",
       "      <td>When was the Diwali Celeberation?</td>\n",
       "      <td>Email</td>\n",
       "    </tr>\n",
       "    <tr>\n",
       "      <th>3</th>\n",
       "      <td>3</td>\n",
       "      <td>Show me all emails focused on covid19.</td>\n",
       "      <td>Email</td>\n",
       "    </tr>\n",
       "    <tr>\n",
       "      <th>4</th>\n",
       "      <td>4</td>\n",
       "      <td>Show me the important mails for today</td>\n",
       "      <td>Email</td>\n",
       "    </tr>\n",
       "  </tbody>\n",
       "</table>\n",
       "</div>"
      ],
      "text/plain": [
       "   Unnamed: 0                                           question   tags\n",
       "0           0                             List email from Richa?  Email\n",
       "1           1  What did robert write to me regarding overview...  Email\n",
       "2           2                  When was the Diwali Celeberation?  Email\n",
       "3           3             Show me all emails focused on covid19.  Email\n",
       "4           4              Show me the important mails for today  Email"
      ]
     },
     "execution_count": 9,
     "metadata": {},
     "output_type": "execute_result"
    }
   ],
   "source": [
    "#Getting first 5 rows of the data frame\n",
    "utter_data.head()"
   ]
  },
  {
   "cell_type": "code",
   "execution_count": 10,
   "id": "712c87ff",
   "metadata": {},
   "outputs": [],
   "source": [
    "#Dropping the useless column 'Unnamed: 0' as it is not required for any analysis\n",
    "utter_data = utter_data.drop(['Unnamed: 0'], axis = 1)"
   ]
  },
  {
   "cell_type": "code",
   "execution_count": 11,
   "id": "5723953f",
   "metadata": {},
   "outputs": [
    {
     "data": {
      "text/plain": [
       "'how long is the Human Resources Master Services Agreements of Media5 Corporation?'"
      ]
     },
     "execution_count": 11,
     "metadata": {},
     "output_type": "execute_result"
    }
   ],
   "source": [
    "#Checking shape the the data frame after droping the column 'Unnamed: 0'\n",
    "from sklearn.utils import shuffle\n",
    "utter_data.shape\n",
    "utter_data = utter_data.sample(frac=1).reset_index(drop=True)\n",
    "utter_data.question[0]"
   ]
  },
  {
   "cell_type": "markdown",
   "id": "dc0f5f35",
   "metadata": {},
   "source": [
    "# Count of Tags\n",
    "Tags are the important feature in the data set as it is the outcome for each utter word. Hence, would like to check the distribution of the tags values."
   ]
  },
  {
   "cell_type": "code",
   "execution_count": 12,
   "id": "d03b28af",
   "metadata": {},
   "outputs": [
    {
     "name": "stdout",
     "output_type": "stream",
     "text": [
      "Contract    1590\n",
      "Email       1162\n",
      "Calendar     786\n",
      "Contact      450\n",
      "Document     398\n",
      "Employee     126\n",
      "Keyword       85\n",
      "Name: tags, dtype: int64\n"
     ]
    },
    {
     "data": {
      "text/plain": [
       "<AxesSubplot:>"
      ]
     },
     "execution_count": 12,
     "metadata": {},
     "output_type": "execute_result"
    },
    {
     "data": {
      "image/png": "[encoded data removed]",
      "text/plain": [
       "<Figure size 432x288 with 1 Axes>"
      ]
     },
     "metadata": {
      "needs_background": "light"
     },
     "output_type": "display_data"
    }
   ],
   "source": [
    "print(utter_data.tags.value_counts())\n",
    "utter_data.tags.value_counts().plot(kind='bar')"
   ]
  },
  {
   "cell_type": "markdown",
   "id": "6c96358b",
   "metadata": {},
   "source": [
    "# Observation\n",
    "It can be seen from the bar graph that the data set is imbalance as the class labes/tags 'contact', 'Document', 'Employee' and 'Keyword' are minor class labels."
   ]
  },
  {
   "cell_type": "code",
   "execution_count": 13,
   "id": "57f44bcb",
   "metadata": {},
   "outputs": [
    {
     "data": {
      "text/html": [
       "<div>\n",
       "<style scoped>\n",
       "    .dataframe tbody tr th:only-of-type {\n",
       "        vertical-align: middle;\n",
       "    }\n",
       "\n",
       "    .dataframe tbody tr th {\n",
       "        vertical-align: top;\n",
       "    }\n",
       "\n",
       "    .dataframe thead th {\n",
       "        text-align: right;\n",
       "    }\n",
       "</style>\n",
       "<table border=\"1\" class=\"dataframe\">\n",
       "  <thead>\n",
       "    <tr style=\"text-align: right;\">\n",
       "      <th></th>\n",
       "      <th>question</th>\n",
       "      <th>tags</th>\n",
       "    </tr>\n",
       "  </thead>\n",
       "  <tbody>\n",
       "    <tr>\n",
       "      <th>0</th>\n",
       "      <td>how long is the Human Resources Master Service...</td>\n",
       "      <td>Contract</td>\n",
       "    </tr>\n",
       "    <tr>\n",
       "      <th>1</th>\n",
       "      <td>Gfesgh</td>\n",
       "      <td>Keyword</td>\n",
       "    </tr>\n",
       "    <tr>\n",
       "      <th>2</th>\n",
       "      <td>List all the events scheduled by jack</td>\n",
       "      <td>Calendar</td>\n",
       "    </tr>\n",
       "    <tr>\n",
       "      <th>3</th>\n",
       "      <td>provide statement of works's with CA Europe Sa...</td>\n",
       "      <td>Contract</td>\n",
       "    </tr>\n",
       "    <tr>\n",
       "      <th>4</th>\n",
       "      <td>How can we reach Sreejith Nair?</td>\n",
       "      <td>Contact</td>\n",
       "    </tr>\n",
       "  </tbody>\n",
       "</table>\n",
       "</div>"
      ],
      "text/plain": [
       "                                            question      tags\n",
       "0  how long is the Human Resources Master Service...  Contract\n",
       "1                                             Gfesgh   Keyword\n",
       "2              List all the events scheduled by jack  Calendar\n",
       "3  provide statement of works's with CA Europe Sa...  Contract\n",
       "4                    How can we reach Sreejith Nair?   Contact"
      ]
     },
     "execution_count": 13,
     "metadata": {},
     "output_type": "execute_result"
    }
   ],
   "source": [
    "utter_data.head()"
   ]
  },
  {
   "cell_type": "markdown",
   "id": "dd55666d",
   "metadata": {},
   "source": [
    "# Removing duplicate questions\n",
    "Removing duplicate utter sentence or questions as redundant questions with similar tags won't add any value to the analysis"
   ]
  },
  {
   "cell_type": "code",
   "execution_count": 14,
   "id": "82af8463",
   "metadata": {},
   "outputs": [
    {
     "data": {
      "text/plain": [
       "(4441, 2)"
      ]
     },
     "execution_count": 14,
     "metadata": {},
     "output_type": "execute_result"
    }
   ],
   "source": [
    "final_utter=utter_data.drop_duplicates(subset={\"question\", \"tags\"}, keep='first', inplace=False)\n",
    "final_utter.shape"
   ]
  },
  {
   "cell_type": "code",
   "execution_count": 15,
   "id": "baeac3b4",
   "metadata": {},
   "outputs": [
    {
     "name": "stdout",
     "output_type": "stream",
     "text": [
      "Contract    1496\n",
      "Email       1149\n",
      "Calendar     757\n",
      "Contact      450\n",
      "Document     378\n",
      "Employee     126\n",
      "Keyword       85\n",
      "Name: tags, dtype: int64\n"
     ]
    },
    {
     "data": {
      "text/plain": [
       "<AxesSubplot:>"
      ]
     },
     "execution_count": 15,
     "metadata": {},
     "output_type": "execute_result"
    },
    {
     "data": {
      "image/png": "[encoded data removed]",
      "text/plain": [
       "<Figure size 432x288 with 1 Axes>"
      ]
     },
     "metadata": {
      "needs_background": "light"
     },
     "output_type": "display_data"
    }
   ],
   "source": [
    "print(final_utter.tags.value_counts())\n",
    "final_utter.tags.value_counts().plot(kind = 'bar')"
   ]
  },
  {
   "cell_type": "code",
   "execution_count": 16,
   "id": "3a6fc673",
   "metadata": {},
   "outputs": [
    {
     "data": {
      "text/plain": [
       "96.6064824885795"
      ]
     },
     "execution_count": 16,
     "metadata": {},
     "output_type": "execute_result"
    }
   ],
   "source": [
    "#Checking how much data has been retained after removing duplicates from the dataset\n",
    "(final_utter['tags'].size*1.0)/(utter_data['tags'].size*1.0)*100"
   ]
  },
  {
   "cell_type": "markdown",
   "id": "af0f6820",
   "metadata": {},
   "source": [
    "# Observation\n",
    "96% of the data is retained after removing the duplicates from the dataset"
   ]
  },
  {
   "cell_type": "markdown",
   "id": "d10d7a9d",
   "metadata": {},
   "source": [
    "# Text Preprocessing"
   ]
  },
  {
   "cell_type": "code",
   "execution_count": 17,
   "id": "c9643472",
   "metadata": {},
   "outputs": [],
   "source": [
    "# creating a stopword list\n",
    "stopwords_list = set(stopwords.words('english'))"
   ]
  },
  {
   "cell_type": "code",
   "execution_count": 18,
   "id": "023dddaa",
   "metadata": {},
   "outputs": [],
   "source": [
    "# Created a mehod which will take a sentnce as an input and return sentence with decontracted form of the contracted words\n",
    "def expand_Sent(sentence):\n",
    "    # specific\n",
    "    sentence = re.sub(r\"won't\", \"will not\", sentence)\n",
    "    sentence = re.sub(r\"can\\'t\", \"can not\", sentence)\n",
    "\n",
    "    # general\n",
    "    sentence = re.sub(r\"n\\'t\", \" not\", sentence)\n",
    "    sentence = re.sub(r\"\\'re\", \" are\", sentence)\n",
    "    sentence = re.sub(r\"\\'s\", \" is\", sentence)\n",
    "    sentence = re.sub(r\"\\'d\", \" would\", sentence)\n",
    "    sentence = re.sub(r\"\\'ll\", \" will\", sentence)\n",
    "    sentence = re.sub(r\"\\'t\", \" not\", sentence)\n",
    "    sentence = re.sub(r\"\\'ve\", \" have\", sentence)\n",
    "    sentence = re.sub(r\"\\'m\", \" am\", sentence)\n",
    "    return sentence"
   ]
  },
  {
   "cell_type": "code",
   "execution_count": 19,
   "id": "f6e217c9",
   "metadata": {},
   "outputs": [
    {
     "name": "stderr",
     "output_type": "stream",
     "text": [
      "[nltk_data] Downloading package words to\n",
      "[nltk_data]     C:\\Users\\320035677\\AppData\\Roaming\\nltk_data...\n",
      "[nltk_data]   Package words is already up-to-date!\n",
      "[nltk_data] Downloading package wordnet to\n",
      "[nltk_data]     C:\\Users\\320035677\\AppData\\Roaming\\nltk_data...\n",
      "[nltk_data]   Package wordnet is already up-to-date!\n"
     ]
    }
   ],
   "source": [
    "#Text cleaning by replacing unwanted words like special charater, html tags, non text character from the senteces \n",
    "# Performing stopwords removel, Tokenization, stemming and lemmatization on the text\n",
    "nltk.download('words')\n",
    "nltk.download('wordnet')\n",
    "words = nltk.corpus.words.words() + list(nltk.corpus.wordnet.words())\n",
    "word_list = set(words)\n",
    "def text_preprocessing(text, stem_flag=False, lem_flag=True, stopword_list=None):\n",
    "    text = re.sub(r'[^\\w\\s]', '', str(text).lower().strip())\n",
    "    text = re.sub(r\"http\\S+\", \"\", text)\n",
    "    text = bs(text, 'lxml').get_text()\n",
    "    text = expand_Sent(text)\n",
    "    text = re.sub(\"\\S*\\d\\S*\", \"\", text).strip()\n",
    "    text = re.sub('[^A-Za-z]+', ' ', text)\n",
    "    ## Tokenizing the string to list of tokens/words\n",
    "    lst_text = text.split()\n",
    "    ## removal of Stopwords\n",
    "    if stopword_list is not None:\n",
    "        lst_text = [word for word in lst_text if word not in \n",
    "                    stopwords_list]\n",
    "   # lst_text = [word for word in lst_text if word in word_list or not word.isalpha()]\n",
    "                \n",
    "    ## Stemming to convert a word to its base word\n",
    "    if stem_flag == True:\n",
    "        ps = nltk.stem.porter.PorterStemmer()\n",
    "        lst_text = [ps.stem(word) for word in lst_text]\n",
    "                \n",
    "    ## Lemmatisation (convert the word into root word)\n",
    "    if lem_flag == True:\n",
    "        lem = nltk.stem.wordnet.WordNetLemmatizer()\n",
    "        lst_text = [lem.lemmatize(word) for word in lst_text]\n",
    "            \n",
    "    ## back to string from list\n",
    "    text = \" \".join(lst_text)\n",
    "    return text"
   ]
  },
  {
   "cell_type": "code",
   "execution_count": 20,
   "id": "fc0cc20f",
   "metadata": {},
   "outputs": [
    {
     "name": "stderr",
     "output_type": "stream",
     "text": [
      "100%|████████████████████████████████████████████████████████████████████████████| 4441/4441 [00:03<00:00, 1369.93it/s]\n"
     ]
    },
    {
     "data": {
      "text/plain": [
       "4441"
      ]
     },
     "execution_count": 20,
     "metadata": {},
     "output_type": "execute_result"
    }
   ],
   "source": [
    "#Applying test_preprocessing method on the questions and storing back cleaned question column in data frame\n",
    "#tqdm is for printing the status bar\n",
    "from tqdm import tqdm\n",
    "tqdm.pandas()\n",
    "final_utter[\"clean_questions\"] = final_utter.question.progress_apply(lambda x: \n",
    "          text_preprocessing(x, stem_flag=False, lem_flag=True, \n",
    "          stopword_list=stopwords_list))\n",
    "final_utter.head()\n",
    "len(final_utter)"
   ]
  },
  {
   "cell_type": "code",
   "execution_count": 21,
   "id": "1ba823dc",
   "metadata": {},
   "outputs": [],
   "source": [
    "#Removing Named Entities\n",
    "import spacy\n",
    "nlp = spacy.load('en_core_web_sm')\n",
    "def removeNamedEntities(sent):\n",
    "\n",
    "    document = nlp(sent)\n",
    "\n",
    "    text_without_entities = []\n",
    "\n",
    "    entities = [ent.text for ent in document.ents]\n",
    "    for item in document:\n",
    "        if item.text in entities:\n",
    "            pass\n",
    "        else:\n",
    "            text_without_entities.append(item.text)\n",
    "    return \" \".join(text_without_entities)"
   ]
  },
  {
   "cell_type": "code",
   "execution_count": 22,
   "id": "64dcce5c",
   "metadata": {},
   "outputs": [
    {
     "name": "stderr",
     "output_type": "stream",
     "text": [
      "100%|██████████████████████████████████████████████████████████████████████████████| 4441/4441 [00:46<00:00, 94.60it/s]\n"
     ]
    },
    {
     "data": {
      "text/plain": [
       "4441"
      ]
     },
     "execution_count": 22,
     "metadata": {},
     "output_type": "execute_result"
    }
   ],
   "source": [
    "from tqdm import tqdm\n",
    "tqdm.pandas()\n",
    "final_utter[\"clean_questions\"] = final_utter.clean_questions.progress_apply(lambda x: removeNamedEntities(x))\n",
    "final_utter.head()\n",
    "len(final_utter)"
   ]
  },
  {
   "cell_type": "code",
   "execution_count": 23,
   "id": "2292442f",
   "metadata": {},
   "outputs": [
    {
     "name": "stdout",
     "output_type": "stream",
     "text": [
      "19\n"
     ]
    },
    {
     "data": {
      "text/plain": [
       "(4441, 3)"
      ]
     },
     "execution_count": 23,
     "metadata": {},
     "output_type": "execute_result"
    }
   ],
   "source": [
    "# Replacing empty questions with NaN values\n",
    "final_utter.clean_questions.replace('', np.nan, inplace=True)\n",
    "print(final_utter.clean_questions.isna().sum())\n",
    "final_utter.shape"
   ]
  },
  {
   "cell_type": "markdown",
   "id": "dae5ed11",
   "metadata": {},
   "source": [
    "There are 19 NaN values in data set"
   ]
  },
  {
   "cell_type": "code",
   "execution_count": 24,
   "id": "d9fcdfc8",
   "metadata": {},
   "outputs": [
    {
     "data": {
      "text/plain": [
       "(4422, 3)"
      ]
     },
     "execution_count": 24,
     "metadata": {},
     "output_type": "execute_result"
    }
   ],
   "source": [
    "#Droping the questions having NaN values\n",
    "final_utter.dropna(subset=['clean_questions'], inplace=True)\n",
    "final_utter.shape"
   ]
  },
  {
   "cell_type": "markdown",
   "id": "833a42b9",
   "metadata": {},
   "source": [
    "# Top three features"
   ]
  },
  {
   "cell_type": "code",
   "execution_count": 25,
   "id": "c0b890ea",
   "metadata": {},
   "outputs": [
    {
     "name": "stdout",
     "output_type": "stream",
     "text": [
      "   feature     tfidf\n",
      "0  johnson  0.633978\n",
      "1    kevin  0.628174\n",
      "2     last  0.324147\n"
     ]
    }
   ],
   "source": [
    "#method to see top 3 features in particular row\n",
    "#change index in tfidf[0,:] in line  number 12 to get tog three features in different rows\n",
    "tfidfvectorizer = TfidfVectorizer()\n",
    "tfidf = tfidfvectorizer.fit_transform(final_utter.clean_questions)\n",
    "features = tfidfvectorizer.get_feature_names()\n",
    "def top_tfidf_features(row, features, top_n=25):\n",
    "    topn_ids = np.argsort(row)[::-1][:top_n]\n",
    "    top_feats = [(features[i], row[i]) for i in topn_ids]\n",
    "    df = pd.DataFrame(top_feats)\n",
    "    df.columns = ['feature', 'tfidf']\n",
    "    return df\n",
    "top_features = top_tfidf_features(tfidf[70,:].toarray()[0],features, 3)\n",
    "print(top_features)"
   ]
  },
  {
   "cell_type": "markdown",
   "id": "6ecc4a8b",
   "metadata": {},
   "source": [
    "# Train and Test set"
   ]
  },
  {
   "cell_type": "code",
   "execution_count": 26,
   "id": "70c6cff2",
   "metadata": {},
   "outputs": [
    {
     "data": {
      "text/plain": [
       "3817      akamai technology international ag office found\n",
       "4416               find last latest statement work skytap\n",
       "617                                             say bonus\n",
       "3219                              many mail marked unread\n",
       "1637                           last receive email netflix\n",
       "                              ...                        \n",
       "777                   show meeting scheduled mitchell may\n",
       "1713    find last latest data processing agreement del...\n",
       "130                                   organized event soc\n",
       "2996    termination effective date kloudone inc agreement\n",
       "3262    represented limited ta sap solution sow eleks inc\n",
       "Name: clean_questions, Length: 3090, dtype: object"
      ]
     },
     "execution_count": 26,
     "metadata": {},
     "output_type": "execute_result"
    }
   ],
   "source": [
    "X_train, X_test, y_train, y_test = train_test_split(final_utter.clean_questions, final_utter.tags, test_size=0.3, shuffle=True, random_state = 42)\n",
    "#final_utter_X_train, final_utter_X_test, final_utter_Y_train, final_utter_Y_test= train_test_split(final_utter.question, final_utter.tags, test_size=0.7, random_state=8, stratify=final_utter.tags)\n",
    "X_train.head(-5)"
   ]
  },
  {
   "cell_type": "code",
   "execution_count": 27,
   "id": "f7e8d78c",
   "metadata": {},
   "outputs": [
    {
     "data": {
      "text/plain": [
       "Contract    1034\n",
       "Email        807\n",
       "Calendar     547\n",
       "Contact      304\n",
       "Document     260\n",
       "Employee      88\n",
       "Keyword       55\n",
       "Name: tags, dtype: int64"
      ]
     },
     "execution_count": 27,
     "metadata": {},
     "output_type": "execute_result"
    },
    {
     "data": {
      "image/png": "[encoded data removed]",
      "text/plain": [
       "<Figure size 432x288 with 1 Axes>"
      ]
     },
     "metadata": {
      "needs_background": "light"
     },
     "output_type": "display_data"
    }
   ],
   "source": [
    "y_train.value_counts().plot(kind='bar')\n",
    "y_train.value_counts()"
   ]
  },
  {
   "cell_type": "code",
   "execution_count": 28,
   "id": "acc3f855",
   "metadata": {},
   "outputs": [
    {
     "data": {
      "text/plain": [
       "Contract    462\n",
       "Email       342\n",
       "Calendar    210\n",
       "Contact     139\n",
       "Document    112\n",
       "Employee     38\n",
       "Keyword      24\n",
       "Name: tags, dtype: int64"
      ]
     },
     "execution_count": 28,
     "metadata": {},
     "output_type": "execute_result"
    },
    {
     "data": {
      "image/png": "[encoded data removed]",
      "text/plain": [
       "<Figure size 432x288 with 1 Axes>"
      ]
     },
     "metadata": {
      "needs_background": "light"
     },
     "output_type": "display_data"
    }
   ],
   "source": [
    "y_test.value_counts().plot(kind='bar')\n",
    "y_test.value_counts()"
   ]
  },
  {
   "cell_type": "markdown",
   "id": "2751f774",
   "metadata": {},
   "source": [
    "# Observation\n",
    "Both train and test data are imbalanced"
   ]
  },
  {
   "cell_type": "markdown",
   "id": "9981390c",
   "metadata": {},
   "source": [
    "# Handling Imbalance Data using SMOTE\n",
    "SMOTE(SyntheticMinorityOversamplingTechnique) — upsampling:-\n",
    "\n",
    "It works based on the KNearestNeighbours algorithm, synthetically generating data points that fall in the proximity of the \n",
    "\n",
    "already existing outnumbered group. The input records should not contain any null values when applying this approach."
   ]
  },
  {
   "cell_type": "code",
   "execution_count": 25,
   "id": "39b5175f",
   "metadata": {},
   "outputs": [
    {
     "name": "stdout",
     "output_type": "stream",
     "text": [
      "Imbalance Training set shape:- \n",
      "(3095,)\n",
      "Balance Training set shape:- \n",
      "(7259, 1531)\n"
     ]
    }
   ],
   "source": [
    "#Perfomr SMOTE oversampling technique\n",
    "from sklearn import preprocessing\n",
    "labelEncoder = preprocessing.LabelEncoder()\n",
    "labelEncoder.fit(y_train)\n",
    "y_train_transformed = labelEncoder.transform(y_train)\n",
    "#Converting text data to vetor\n",
    "tfidfVectorizer = TfidfVectorizer()\n",
    "tfidf = tfidfVectorizer.fit_transform(X_train)\n",
    "oversample = SMOTE()\n",
    "X_train_bal, y_train_bal = oversample.fit_resample(tfidf, y_train_transformed)\n",
    "print(\"Imbalance Training set shape:- \")\n",
    "print(X_train.shape)\n",
    "print(\"Balance Training set shape:- \")\n",
    "print(X_train_bal.shape)"
   ]
  },
  {
   "cell_type": "code",
   "execution_count": 26,
   "id": "8c43790f",
   "metadata": {},
   "outputs": [],
   "source": [
    "y_train_bal  = labelEncoder.inverse_transform(y_train_bal)"
   ]
  },
  {
   "cell_type": "code",
   "execution_count": 27,
   "id": "34b304d3",
   "metadata": {},
   "outputs": [
    {
     "data": {
      "image/png": "[encoded data removed]",
      "text/plain": [
       "<Figure size 432x288 with 1 Axes>"
      ]
     },
     "metadata": {
      "needs_background": "light"
     },
     "output_type": "display_data"
    }
   ],
   "source": [
    "#Checking the size of all labels after SMOTE upsampling \n",
    "pd.Series(y_train_bal).value_counts().plot(kind='bar')\n",
    "y_train_bal = labelEncoder.transform(y_train_bal)"
   ]
  },
  {
   "cell_type": "markdown",
   "id": "f4558676",
   "metadata": {},
   "source": [
    "# Observation\n",
    "After appying Random Oversampler it can be seen that the data is now well balanced, and now can go ahead with the precdiction"
   ]
  },
  {
   "cell_type": "markdown",
   "id": "580d909e",
   "metadata": {},
   "source": [
    "# Word2Vec to convert each word to vector\n",
    "The problem with BoW and tf-idf is they does not retain semantic meaning of the docs or words, where w2vec able to retain semantic meaning of the words or docs which helps in putting similar words near by to each other"
   ]
  },
  {
   "cell_type": "code",
   "execution_count": 28,
   "id": "2b0a4b84",
   "metadata": {},
   "outputs": [],
   "source": [
    "class UtterSentences(object):\n",
    "    \"\"\"UtterSentences is a generator to produce a list of tokenized sentences \n",
    "    \n",
    "    Takes a list of numpy arrays containing documents.\n",
    "    \n",
    "    Args:\n",
    "        arrays: List of arrays, where each element in the array contains a document.\n",
    "    \"\"\"\n",
    "    def __init__(self, *arrays):\n",
    "        self.arrays = arrays\n",
    " \n",
    "    def __iter__(self):\n",
    "        for array in self.arrays:\n",
    "            for document in array:\n",
    "                for sent in nltk.sent_tokenize(document):\n",
    "                    yield nltk.word_tokenize(sent)\n",
    "\n",
    "def get_utter_word2vec(sentences, location):\n",
    "    \"\"\"Returns trained word2vec\n",
    "    \n",
    "    Args:\n",
    "        sentences: iterator for sentences\n",
    "        \n",
    "        location (str): Path to save/load word2vec\n",
    "    \"\"\"\n",
    "    if os.path.exists(location):\n",
    "        print('{} already exist. Training w2vec not required.'.format(location))\n",
    "        model = gensim.models.Word2Vec.load(location)\n",
    "        return model\n",
    "    \n",
    "    print('{} not exist. Building new w2vec model......'.format(location))\n",
    "    model = gensim.models.Word2Vec(sentences, vector_size=100, window=5, min_count=5, workers=4)\n",
    "    print('w2vec model training done. Saving to disk')\n",
    "    model.save(location)\n",
    "    return model"
   ]
  },
  {
   "cell_type": "code",
   "execution_count": 29,
   "id": "357da825",
   "metadata": {},
   "outputs": [
    {
     "name": "stdout",
     "output_type": "stream",
     "text": [
      "w2vmodel already exist. Training w2vec not required.\n"
     ]
    }
   ],
   "source": [
    "#Creating word2vec model and saving it is the same location this jnotebook exist\n",
    "w2vec = get_utter_word2vec(\n",
    "    UtterSentences(\n",
    "        final_utter.question.values\n",
    "    ),\n",
    "    'w2vmodel'\n",
    ")"
   ]
  },
  {
   "cell_type": "markdown",
   "id": "65910749",
   "metadata": {},
   "source": [
    "# MeanEmbeddingVectorizer (Avg w2v)\n",
    "Here I'm creating Mean Embedding Vectorizer which is nothing but of Average w2v where we sum up all the w2v of each word in \n",
    "\n",
    "a document and divide it by total no. of words in that documnet\n",
    "\n",
    "Ex:- for document D1 contains words w1,w2,w3 the vector V1  is [w2v(w1)+w2v(w2)+w2v(w3)]/total no. of words in D1"
   ]
  },
  {
   "cell_type": "code",
   "execution_count": 30,
   "id": "1d284435",
   "metadata": {},
   "outputs": [],
   "source": [
    "class Tokenizer:\n",
    "    def __init__(self):\n",
    "        pass\n",
    "    \n",
    "    def fit(self, X, y=None):\n",
    "        return self\n",
    "    \n",
    "    def transform(self, X):\n",
    "        transformed_X = []\n",
    "        for document in X:\n",
    "            tokenized_doc = []\n",
    "            for sent in nltk.sent_tokenize(document):\n",
    "                tokenized_doc += nltk.word_tokenize(sent)\n",
    "            transformed_X.append(np.array(tokenized_doc))\n",
    "        return np.array(transformed_X)\n",
    "    \n",
    "    def fit_transform(self, X, y=None):\n",
    "        return self.transform(X)\n",
    "\n",
    "class MeanEmbeddingVectorizer(object):\n",
    "    def __init__(self, word2vec):\n",
    "        self.word2vec = word2vec\n",
    "        # if a text is empty we should return a vector of zeros\n",
    "        # with the same dimensionality as all the other vectors\n",
    "        self.dim = word2vec.wv.vector_size\n",
    "\n",
    "    def fit(self, X, y=None):\n",
    "        return self\n",
    "\n",
    "    def transform(self, X):\n",
    "        X = Tokenizer().fit_transform(X)\n",
    "        \n",
    "        return np.array([\n",
    "            np.mean([self.word2vec.wv[w] for w in words if w in self.word2vec.wv]\n",
    "                    or [np.zeros(self.dim)], axis=0)\n",
    "            for words in X\n",
    "        ])\n",
    "    \n",
    "    def fit_transform(self, X, y=None):\n",
    "        return self.transform(X)"
   ]
  },
  {
   "cell_type": "markdown",
   "id": "606f615e",
   "metadata": {},
   "source": [
    "# Tfidf Embedding Vectorizor (Tf-Idf weighted word2vector)\n",
    "Here, In a document Di each word wi word2vec(wi) multiplied by tfidf of that word wi and sum across\n",
    "\n",
    "Ex:- In document D1 wrds w1,w2,w3 tfidf weighted vector is :-\n",
    "\n",
    "tfidf_w2v(D1) = [tfidf1*w2v(w1) + tfidf2*w2v(w2) + tfidf3*w2v(w3)]/sum(tfidf1+tfidf2+tfidf3)"
   ]
  },
  {
   "cell_type": "code",
   "execution_count": 31,
   "id": "842b8ad5",
   "metadata": {},
   "outputs": [],
   "source": [
    "from collections import defaultdict\n",
    "class TfidfEmbeddingVectorizer(object):\n",
    "    def __init__(self, word2vec):\n",
    "        self.word2vec = word2vec\n",
    "        self.word2weight = None\n",
    "        # if a text is empty we should return a vector of zeros\n",
    "        # with the same dimensionality as all the other vectors\n",
    "        self.dim = word2vec.wv.vector_size\n",
    "    def fit(self, X, y):\n",
    "        tfidf = TfidfVectorizer(analyzer=lambda x: x)\n",
    "        tfidf.fit(X)\n",
    "        # if a word was never seen - it must be at least as infrequent\n",
    "        # as any of the known words - so the default idf is the max of \n",
    "        # known idf's\n",
    "        max_idf = max(tfidf.idf_)\n",
    "        self.word2weight = defaultdict(\n",
    "            lambda: max_idf,\n",
    "            [(w, tfidf.idf_[i]) for w, i in tfidf.vocabulary_.items()])\n",
    "\n",
    "        return self\n",
    "\n",
    "    def transform(self, X):\n",
    "        X = Tokenizer().fit_transform(X)\n",
    "        return np.array([\n",
    "                np.mean([self.word2vec.wv[w] * self.word2weight[w]\n",
    "                         for w in words if w in self.word2vec.wv] or\n",
    "                        [np.zeros(self.dim)], axis=0)\n",
    "                for words in X\n",
    "            ])\n",
    "    def fit_transform(self, X, y=None):\n",
    "        return self.transform(X)"
   ]
  },
  {
   "cell_type": "markdown",
   "id": "f311fd9f",
   "metadata": {},
   "source": [
    "# Predictions\n",
    "# Logistic regrssion with Bag of words text to vector conversion"
   ]
  },
  {
   "cell_type": "code",
   "execution_count": 242,
   "id": "4f6db28d",
   "metadata": {},
   "outputs": [],
   "source": [
    "from imblearn.pipeline import Pipeline, make_pipeline\n",
    "from imblearn.over_sampling import RandomOverSampler\n",
    "textclassifier =Pipeline([\n",
    "  ('vect', CountVectorizer()),\n",
    "   ('ro', SMOTE(random_state=42)),\n",
    "   ('mnb', LogisticRegression())\n",
    "])"
   ]
  },
  {
   "cell_type": "code",
   "execution_count": 243,
   "id": "55d8b9c0",
   "metadata": {},
   "outputs": [
    {
     "data": {
      "text/plain": [
       "Pipeline(steps=[('vect', CountVectorizer()), ('ro', SMOTE(random_state=42)),\n",
       "                ('mnb', LogisticRegression())])"
      ]
     },
     "execution_count": 243,
     "metadata": {},
     "output_type": "execute_result"
    }
   ],
   "source": [
    "textclassifier.fit(X_train, y_train)"
   ]
  },
  {
   "cell_type": "code",
   "execution_count": 244,
   "id": "0055ea50",
   "metadata": {},
   "outputs": [],
   "source": [
    "predictions_train = textclassifier.predict(X_train)"
   ]
  },
  {
   "cell_type": "code",
   "execution_count": 245,
   "id": "840c7097",
   "metadata": {},
   "outputs": [
    {
     "name": "stdout",
     "output_type": "stream",
     "text": [
      "              precision    recall  f1-score   support\n",
      "\n",
      "    Calendar       0.97      0.98      0.98       535\n",
      "     Contact       0.97      0.89      0.92       331\n",
      "    Contract       0.98      1.00      0.99      1022\n",
      "    Document       0.95      0.97      0.96       252\n",
      "       Email       0.97      0.99      0.98       793\n",
      "    Employee       1.00      0.99      0.99        92\n",
      "     Keyword       1.00      0.80      0.89        70\n",
      "\n",
      "    accuracy                           0.97      3095\n",
      "   macro avg       0.98      0.94      0.96      3095\n",
      "weighted avg       0.97      0.97      0.97      3095\n",
      "\n"
     ]
    }
   ],
   "source": [
    "print(classification_report(predictions_train, y_train))"
   ]
  },
  {
   "cell_type": "code",
   "execution_count": 246,
   "id": "90bb68cc",
   "metadata": {},
   "outputs": [],
   "source": [
    "predictions_test = textclassifier.predict(X_test)"
   ]
  },
  {
   "cell_type": "code",
   "execution_count": 247,
   "id": "98c68efc",
   "metadata": {},
   "outputs": [
    {
     "name": "stdout",
     "output_type": "stream",
     "text": [
      "              precision    recall  f1-score   support\n",
      "\n",
      "    Calendar       0.93      0.97      0.95       209\n",
      "     Contact       0.80      0.70      0.75       160\n",
      "    Contract       0.94      0.99      0.96       428\n",
      "    Document       0.57      0.80      0.66        80\n",
      "       Email       0.93      0.93      0.93       344\n",
      "    Employee       1.00      0.95      0.97        37\n",
      "     Keyword       0.74      0.25      0.37        69\n",
      "\n",
      "    accuracy                           0.89      1327\n",
      "   macro avg       0.84      0.80      0.80      1327\n",
      "weighted avg       0.89      0.89      0.88      1327\n",
      "\n"
     ]
    },
    {
     "data": {
      "text/plain": [
       "<AxesSubplot:title={'center':'Confusion Matrix'}, xlabel='Predicted label', ylabel='True label'>"
      ]
     },
     "execution_count": 247,
     "metadata": {},
     "output_type": "execute_result"
    },
    {
     "data": {
      "image/png": "[encoded data removed]",
      "text/plain": [
       "<Figure size 720x504 with 2 Axes>"
      ]
     },
     "metadata": {
      "needs_background": "light"
     },
     "output_type": "display_data"
    }
   ],
   "source": [
    "print(classification_report(predictions_test, y_test))\n",
    "skplt.plot_confusion_matrix(y_test, predictions_test,figsize=(10,7))"
   ]
  },
  {
   "cell_type": "markdown",
   "id": "d60c8681",
   "metadata": {},
   "source": [
    "# Logistic Regression with TF-IDF vector"
   ]
  },
  {
   "cell_type": "code",
   "execution_count": 248,
   "id": "e1d3cedc",
   "metadata": {},
   "outputs": [],
   "source": [
    "textclassifier =Pipeline([\n",
    "  ('vect', TfidfVectorizer()),\n",
    "   ('ro', SMOTE(random_state=42)),\n",
    "   ('mnb', LogisticRegression())\n",
    "])"
   ]
  },
  {
   "cell_type": "code",
   "execution_count": 249,
   "id": "62f4f83d",
   "metadata": {},
   "outputs": [
    {
     "data": {
      "text/plain": [
       "Pipeline(steps=[('vect', TfidfVectorizer()), ('ro', SMOTE(random_state=42)),\n",
       "                ('mnb', LogisticRegression())])"
      ]
     },
     "execution_count": 249,
     "metadata": {},
     "output_type": "execute_result"
    }
   ],
   "source": [
    "textclassifier.fit(X_train, y_train)"
   ]
  },
  {
   "cell_type": "code",
   "execution_count": 250,
   "id": "b488a6fc",
   "metadata": {},
   "outputs": [],
   "source": [
    "predictions_train = textclassifier.predict(X_train)"
   ]
  },
  {
   "cell_type": "code",
   "execution_count": 251,
   "id": "346b7a76",
   "metadata": {},
   "outputs": [
    {
     "name": "stdout",
     "output_type": "stream",
     "text": [
      "              precision    recall  f1-score   support\n",
      "\n",
      "    Calendar       0.97      0.98      0.98       533\n",
      "     Contact       0.97      0.92      0.94       318\n",
      "    Contract       0.99      1.00      0.99      1029\n",
      "    Document       0.98      0.95      0.96       266\n",
      "       Email       0.97      0.98      0.98       799\n",
      "    Employee       1.00      1.00      1.00        91\n",
      "     Keyword       1.00      0.95      0.97        59\n",
      "\n",
      "    accuracy                           0.98      3095\n",
      "   macro avg       0.98      0.97      0.98      3095\n",
      "weighted avg       0.98      0.98      0.98      3095\n",
      "\n"
     ]
    }
   ],
   "source": [
    "print(classification_report(predictions_train, y_train))"
   ]
  },
  {
   "cell_type": "code",
   "execution_count": 252,
   "id": "8391ae1f",
   "metadata": {},
   "outputs": [],
   "source": [
    "predictions_test = textclassifier.predict(X_test)"
   ]
  },
  {
   "cell_type": "code",
   "execution_count": 253,
   "id": "eac29b8d",
   "metadata": {},
   "outputs": [
    {
     "name": "stdout",
     "output_type": "stream",
     "text": [
      "              precision    recall  f1-score   support\n",
      "\n",
      "    Calendar       0.94      0.97      0.95       210\n",
      "     Contact       0.85      0.77      0.81       154\n",
      "    Contract       0.96      0.98      0.97       442\n",
      "    Document       0.79      0.72      0.75       124\n",
      "       Email       0.94      0.93      0.94       350\n",
      "    Employee       1.00      0.95      0.97        37\n",
      "     Keyword       0.13      0.30      0.18        10\n",
      "\n",
      "    accuracy                           0.91      1327\n",
      "   macro avg       0.80      0.80      0.80      1327\n",
      "weighted avg       0.92      0.91      0.91      1327\n",
      "\n"
     ]
    },
    {
     "data": {
      "text/plain": [
       "<AxesSubplot:title={'center':'Confusion Matrix'}, xlabel='Predicted label', ylabel='True label'>"
      ]
     },
     "execution_count": 253,
     "metadata": {},
     "output_type": "execute_result"
    },
    {
     "data": {
      "image/png": "[encoded data removed]",
      "text/plain": [
       "<Figure size 720x504 with 2 Axes>"
      ]
     },
     "metadata": {
      "needs_background": "light"
     },
     "output_type": "display_data"
    }
   ],
   "source": [
    "print(classification_report(predictions_test, y_test))\n",
    "skplt.plot_confusion_matrix(y_test, predictions_test,figsize=(10,7))"
   ]
  },
  {
   "cell_type": "markdown",
   "id": "107e3532",
   "metadata": {},
   "source": [
    "# Logistic regression with Mean Embedded Vectorizer (Avg w2v)"
   ]
  },
  {
   "cell_type": "code",
   "execution_count": 254,
   "id": "0c8eeb4d",
   "metadata": {},
   "outputs": [],
   "source": [
    "textclassifier =Pipeline([\n",
    "    ('w2vec mean vector', MeanEmbeddingVectorizer(w2vec)),\n",
    "   ('ro', SMOTE(random_state=42)),\n",
    "   ('mnb', LogisticRegression())\n",
    "])"
   ]
  },
  {
   "cell_type": "code",
   "execution_count": 255,
   "id": "cbaa9676",
   "metadata": {},
   "outputs": [
    {
     "data": {
      "text/plain": [
       "Pipeline(steps=[('w2vec mean vector',\n",
       "                 <__main__.MeanEmbeddingVectorizer object at 0x000001DD020D8430>),\n",
       "                ('ro', SMOTE(random_state=42)), ('mnb', LogisticRegression())])"
      ]
     },
     "execution_count": 255,
     "metadata": {},
     "output_type": "execute_result"
    }
   ],
   "source": [
    "textclassifier.fit(X_train, y_train)"
   ]
  },
  {
   "cell_type": "code",
   "execution_count": 256,
   "id": "9f49c483",
   "metadata": {},
   "outputs": [],
   "source": [
    "prediction_train = textclassifier.predict(X_train)"
   ]
  },
  {
   "cell_type": "code",
   "execution_count": 257,
   "id": "3ce37cb6",
   "metadata": {},
   "outputs": [
    {
     "name": "stdout",
     "output_type": "stream",
     "text": [
      "              precision    recall  f1-score   support\n",
      "\n",
      "    Calendar       0.67      0.89      0.76       407\n",
      "     Contact       0.56      0.42      0.48       405\n",
      "    Contract       0.80      0.95      0.87       876\n",
      "    Document       0.30      0.28      0.29       283\n",
      "       Email       0.78      0.88      0.82       713\n",
      "    Employee       0.96      0.40      0.56       219\n",
      "     Keyword       0.84      0.24      0.38       192\n",
      "\n",
      "    accuracy                           0.71      3095\n",
      "   macro avg       0.70      0.58      0.59      3095\n",
      "weighted avg       0.71      0.71      0.69      3095\n",
      "\n"
     ]
    }
   ],
   "source": [
    "print(classification_report(prediction_train,y_train))"
   ]
  },
  {
   "cell_type": "code",
   "execution_count": 258,
   "id": "2788887a",
   "metadata": {},
   "outputs": [],
   "source": [
    "predictions_test = textclassifier.predict(X_test)"
   ]
  },
  {
   "cell_type": "code",
   "execution_count": 259,
   "id": "be2f835c",
   "metadata": {},
   "outputs": [
    {
     "name": "stdout",
     "output_type": "stream",
     "text": [
      "              precision    recall  f1-score   support\n",
      "\n",
      "    Calendar       0.69      0.89      0.78       170\n",
      "     Contact       0.59      0.42      0.49       193\n",
      "    Contract       0.78      0.97      0.86       365\n",
      "    Document       0.27      0.28      0.27       109\n",
      "       Email       0.80      0.88      0.84       312\n",
      "    Employee       0.97      0.37      0.53        93\n",
      "     Keyword       0.70      0.19      0.30        85\n",
      "\n",
      "    accuracy                           0.71      1327\n",
      "   macro avg       0.68      0.57      0.58      1327\n",
      "weighted avg       0.71      0.71      0.69      1327\n",
      "\n"
     ]
    },
    {
     "data": {
      "text/plain": [
       "<AxesSubplot:title={'center':'Confusion Matrix'}, xlabel='Predicted label', ylabel='True label'>"
      ]
     },
     "execution_count": 259,
     "metadata": {},
     "output_type": "execute_result"
    },
    {
     "data": {
      "image/png": "[encoded data removed]",
      "text/plain": [
       "<Figure size 720x504 with 2 Axes>"
      ]
     },
     "metadata": {
      "needs_background": "light"
     },
     "output_type": "display_data"
    }
   ],
   "source": [
    "print(classification_report(predictions_test, y_test))\n",
    "skplt.plot_confusion_matrix(y_test, predictions_test,figsize=(10,7))"
   ]
  },
  {
   "cell_type": "markdown",
   "id": "6753caff",
   "metadata": {},
   "source": [
    "# Logistic Regression with Tfidf Embedded vectorizer (Tfidf weighted w2vec)"
   ]
  },
  {
   "cell_type": "code",
   "execution_count": 260,
   "id": "e9e3d2e4",
   "metadata": {},
   "outputs": [],
   "source": [
    "textclassifier =Pipeline([\n",
    "    ('w2vec mean vector', TfidfEmbeddingVectorizer(w2vec).fit(X_train,None)),\n",
    "   ('ro', SMOTE(random_state=42)),\n",
    "   ('mnb', LogisticRegression())\n",
    "])"
   ]
  },
  {
   "cell_type": "code",
   "execution_count": 261,
   "id": "5132a25f",
   "metadata": {},
   "outputs": [
    {
     "data": {
      "text/plain": [
       "Pipeline(steps=[('w2vec mean vector',\n",
       "                 <__main__.TfidfEmbeddingVectorizer object at 0x000001DD04C84EE0>),\n",
       "                ('ro', SMOTE(random_state=42)), ('mnb', LogisticRegression())])"
      ]
     },
     "execution_count": 261,
     "metadata": {},
     "output_type": "execute_result"
    }
   ],
   "source": [
    "textclassifier.fit(X_train, y_train)"
   ]
  },
  {
   "cell_type": "code",
   "execution_count": 262,
   "id": "c7aee9de",
   "metadata": {},
   "outputs": [],
   "source": [
    "prediction_train = textclassifier.predict(X_train)"
   ]
  },
  {
   "cell_type": "code",
   "execution_count": 263,
   "id": "e0964693",
   "metadata": {},
   "outputs": [
    {
     "name": "stdout",
     "output_type": "stream",
     "text": [
      "              precision    recall  f1-score   support\n",
      "\n",
      "    Calendar       0.97      0.98      0.98       533\n",
      "     Contact       0.97      0.92      0.94       318\n",
      "    Contract       0.99      1.00      0.99      1029\n",
      "    Document       0.98      0.95      0.96       266\n",
      "       Email       0.97      0.98      0.98       799\n",
      "    Employee       1.00      1.00      1.00        91\n",
      "     Keyword       1.00      0.95      0.97        59\n",
      "\n",
      "    accuracy                           0.98      3095\n",
      "   macro avg       0.98      0.97      0.98      3095\n",
      "weighted avg       0.98      0.98      0.98      3095\n",
      "\n"
     ]
    }
   ],
   "source": [
    "print(classification_report(predictions_train, y_train))"
   ]
  },
  {
   "cell_type": "code",
   "execution_count": 264,
   "id": "1a2b3bf7",
   "metadata": {},
   "outputs": [],
   "source": [
    "predictions_test = textclassifier.predict(X_test)"
   ]
  },
  {
   "cell_type": "code",
   "execution_count": 265,
   "id": "6c5ce2ea",
   "metadata": {},
   "outputs": [
    {
     "name": "stdout",
     "output_type": "stream",
     "text": [
      "              precision    recall  f1-score   support\n",
      "\n",
      "    Calendar       0.78      0.89      0.83       193\n",
      "     Contact       0.59      0.58      0.59       142\n",
      "    Contract       0.82      0.97      0.89       385\n",
      "    Document       0.33      0.28      0.30       131\n",
      "       Email       0.84      0.88      0.86       328\n",
      "    Employee       0.91      0.48      0.63        67\n",
      "     Keyword       0.70      0.20      0.31        81\n",
      "\n",
      "    accuracy                           0.75      1327\n",
      "   macro avg       0.71      0.61      0.63      1327\n",
      "weighted avg       0.74      0.75      0.73      1327\n",
      "\n"
     ]
    },
    {
     "data": {
      "text/plain": [
       "<AxesSubplot:title={'center':'Confusion Matrix'}, xlabel='Predicted label', ylabel='True label'>"
      ]
     },
     "execution_count": 265,
     "metadata": {},
     "output_type": "execute_result"
    },
    {
     "data": {
      "image/png": "[encoded data removed]",
      "text/plain": [
       "<Figure size 720x504 with 2 Axes>"
      ]
     },
     "metadata": {
      "needs_background": "light"
     },
     "output_type": "display_data"
    }
   ],
   "source": [
    "print(classification_report(predictions_test, y_test))\n",
    "skplt.plot_confusion_matrix(y_test, predictions_test,figsize=(10,7))"
   ]
  },
  {
   "cell_type": "markdown",
   "id": "cfb73030",
   "metadata": {},
   "source": [
    "# RandomForest Classifier with BoW vector\n"
   ]
  },
  {
   "cell_type": "code",
   "execution_count": 266,
   "id": "a1ab1232",
   "metadata": {},
   "outputs": [],
   "source": [
    "textclassifier =Pipeline([\n",
    "  ('vect', CountVectorizer()),\n",
    "   ('ro', SMOTE(random_state=42)),\n",
    "   ('mnb', RandomForestClassifier(n_estimators=1000, max_depth=5, verbose=1, n_jobs=-1))\n",
    "])"
   ]
  },
  {
   "cell_type": "code",
   "execution_count": 267,
   "id": "7caeb6d1",
   "metadata": {},
   "outputs": [
    {
     "name": "stderr",
     "output_type": "stream",
     "text": [
      "[Parallel(n_jobs=-1)]: Using backend ThreadingBackend with 12 concurrent workers.\n",
      "[Parallel(n_jobs=-1)]: Done  26 tasks      | elapsed:    0.3s\n",
      "[Parallel(n_jobs=-1)]: Done 176 tasks      | elapsed:    0.9s\n",
      "[Parallel(n_jobs=-1)]: Done 426 tasks      | elapsed:    1.9s\n",
      "[Parallel(n_jobs=-1)]: Done 776 tasks      | elapsed:    3.4s\n",
      "[Parallel(n_jobs=-1)]: Done 1000 out of 1000 | elapsed:    4.3s finished\n"
     ]
    },
    {
     "data": {
      "text/plain": [
       "Pipeline(steps=[('vect', CountVectorizer()), ('ro', SMOTE(random_state=42)),\n",
       "                ('mnb',\n",
       "                 RandomForestClassifier(max_depth=5, n_estimators=1000,\n",
       "                                        n_jobs=-1, verbose=1))])"
      ]
     },
     "execution_count": 267,
     "metadata": {},
     "output_type": "execute_result"
    }
   ],
   "source": [
    "textclassifier.fit(X_train, y_train)"
   ]
  },
  {
   "cell_type": "code",
   "execution_count": 268,
   "id": "d6664742",
   "metadata": {},
   "outputs": [
    {
     "name": "stderr",
     "output_type": "stream",
     "text": [
      "[Parallel(n_jobs=12)]: Using backend ThreadingBackend with 12 concurrent workers.\n",
      "[Parallel(n_jobs=12)]: Done  26 tasks      | elapsed:    0.0s\n",
      "[Parallel(n_jobs=12)]: Done 176 tasks      | elapsed:    0.0s\n",
      "[Parallel(n_jobs=12)]: Done 426 tasks      | elapsed:    0.2s\n",
      "[Parallel(n_jobs=12)]: Done 776 tasks      | elapsed:    0.6s\n",
      "[Parallel(n_jobs=12)]: Done 1000 out of 1000 | elapsed:    0.8s finished\n"
     ]
    }
   ],
   "source": [
    "predictions_train = textclassifier.predict(X_train)"
   ]
  },
  {
   "cell_type": "code",
   "execution_count": 269,
   "id": "523a7b1b",
   "metadata": {},
   "outputs": [
    {
     "name": "stdout",
     "output_type": "stream",
     "text": [
      "              precision    recall  f1-score   support\n",
      "\n",
      "    Calendar       0.87      0.88      0.87       533\n",
      "     Contact       0.57      0.71      0.64       245\n",
      "    Contract       0.89      0.97      0.93       950\n",
      "    Document       0.29      0.96      0.45        78\n",
      "       Email       0.78      0.94      0.85       671\n",
      "    Employee       1.00      0.91      0.95       100\n",
      "     Keyword       0.98      0.11      0.19       518\n",
      "\n",
      "    accuracy                           0.78      3095\n",
      "   macro avg       0.77      0.78      0.70      3095\n",
      "weighted avg       0.84      0.78      0.74      3095\n",
      "\n"
     ]
    }
   ],
   "source": [
    "print(classification_report(predictions_train, y_train))"
   ]
  },
  {
   "cell_type": "code",
   "execution_count": 270,
   "id": "613b6721",
   "metadata": {},
   "outputs": [
    {
     "name": "stderr",
     "output_type": "stream",
     "text": [
      "[Parallel(n_jobs=12)]: Using backend ThreadingBackend with 12 concurrent workers.\n",
      "[Parallel(n_jobs=12)]: Done  26 tasks      | elapsed:    0.0s\n",
      "[Parallel(n_jobs=12)]: Done 176 tasks      | elapsed:    0.0s\n",
      "[Parallel(n_jobs=12)]: Done 426 tasks      | elapsed:    0.2s\n",
      "[Parallel(n_jobs=12)]: Done 776 tasks      | elapsed:    0.6s\n",
      "[Parallel(n_jobs=12)]: Done 1000 out of 1000 | elapsed:    0.7s finished\n"
     ]
    }
   ],
   "source": [
    "predictions_test = textclassifier.predict(X_test)"
   ]
  },
  {
   "cell_type": "code",
   "execution_count": 271,
   "id": "561c35cc",
   "metadata": {},
   "outputs": [
    {
     "name": "stdout",
     "output_type": "stream",
     "text": [
      "              precision    recall  f1-score   support\n",
      "\n",
      "    Calendar       0.88      0.86      0.87       224\n",
      "     Contact       0.50      0.62      0.56       112\n",
      "    Contract       0.89      0.97      0.93       414\n",
      "    Document       0.11      0.86      0.19        14\n",
      "       Email       0.77      0.92      0.84       289\n",
      "    Employee       1.00      0.78      0.88        45\n",
      "     Keyword       0.78      0.08      0.14       229\n",
      "\n",
      "    accuracy                           0.75      1327\n",
      "   macro avg       0.70      0.73      0.63      1327\n",
      "weighted avg       0.81      0.75      0.72      1327\n",
      "\n"
     ]
    },
    {
     "data": {
      "text/plain": [
       "<AxesSubplot:title={'center':'Confusion Matrix'}, xlabel='Predicted label', ylabel='True label'>"
      ]
     },
     "execution_count": 271,
     "metadata": {},
     "output_type": "execute_result"
    },
    {
     "data": {
      "image/png": "[encoded data removed]",
      "text/plain": [
       "<Figure size 720x504 with 2 Axes>"
      ]
     },
     "metadata": {
      "needs_background": "light"
     },
     "output_type": "display_data"
    }
   ],
   "source": [
    "print(classification_report(predictions_test, y_test))\n",
    "skplt.plot_confusion_matrix(y_test, predictions_test,figsize=(10,7))"
   ]
  },
  {
   "cell_type": "markdown",
   "id": "843e3548",
   "metadata": {},
   "source": [
    "# Random Forest Classifier with TF-IDF vector"
   ]
  },
  {
   "cell_type": "code",
   "execution_count": 272,
   "id": "7348bcdd",
   "metadata": {},
   "outputs": [],
   "source": [
    "textclassifier =Pipeline([\n",
    "  ('vect', TfidfVectorizer()),\n",
    "   ('ro', SMOTE(random_state=42)),\n",
    "   ('mnb', RandomForestClassifier(n_estimators=1000, max_depth=5, verbose=1, n_jobs=-1))\n",
    "])"
   ]
  },
  {
   "cell_type": "code",
   "execution_count": 273,
   "id": "7e1a1081",
   "metadata": {},
   "outputs": [
    {
     "name": "stderr",
     "output_type": "stream",
     "text": [
      "[Parallel(n_jobs=-1)]: Using backend ThreadingBackend with 12 concurrent workers.\n",
      "[Parallel(n_jobs=-1)]: Done  26 tasks      | elapsed:    0.1s\n",
      "[Parallel(n_jobs=-1)]: Done 176 tasks      | elapsed:    0.7s\n",
      "[Parallel(n_jobs=-1)]: Done 426 tasks      | elapsed:    1.7s\n",
      "[Parallel(n_jobs=-1)]: Done 776 tasks      | elapsed:    3.2s\n",
      "[Parallel(n_jobs=-1)]: Done 1000 out of 1000 | elapsed:    4.1s finished\n"
     ]
    },
    {
     "data": {
      "text/plain": [
       "Pipeline(steps=[('vect', TfidfVectorizer()), ('ro', SMOTE(random_state=42)),\n",
       "                ('mnb',\n",
       "                 RandomForestClassifier(max_depth=5, n_estimators=1000,\n",
       "                                        n_jobs=-1, verbose=1))])"
      ]
     },
     "execution_count": 273,
     "metadata": {},
     "output_type": "execute_result"
    }
   ],
   "source": [
    "textclassifier.fit(X_train, y_train)"
   ]
  },
  {
   "cell_type": "code",
   "execution_count": 274,
   "id": "3728c88e",
   "metadata": {},
   "outputs": [
    {
     "name": "stderr",
     "output_type": "stream",
     "text": [
      "[Parallel(n_jobs=12)]: Using backend ThreadingBackend with 12 concurrent workers.\n",
      "[Parallel(n_jobs=12)]: Done  26 tasks      | elapsed:    0.0s\n",
      "[Parallel(n_jobs=12)]: Done 176 tasks      | elapsed:    0.1s\n",
      "[Parallel(n_jobs=12)]: Done 426 tasks      | elapsed:    0.3s\n",
      "[Parallel(n_jobs=12)]: Done 776 tasks      | elapsed:    0.6s\n",
      "[Parallel(n_jobs=12)]: Done 1000 out of 1000 | elapsed:    0.8s finished\n"
     ]
    }
   ],
   "source": [
    "predictions_train = textclassifier.predict(X_train)"
   ]
  },
  {
   "cell_type": "code",
   "execution_count": 275,
   "id": "c0dabe05",
   "metadata": {},
   "outputs": [
    {
     "name": "stdout",
     "output_type": "stream",
     "text": [
      "              precision    recall  f1-score   support\n",
      "\n",
      "    Calendar       0.86      0.93      0.89       496\n",
      "     Contact       0.67      0.69      0.68       295\n",
      "    Contract       0.84      0.98      0.90       895\n",
      "    Document       0.85      0.36      0.51       608\n",
      "       Email       0.80      0.93      0.86       691\n",
      "    Employee       1.00      0.96      0.98        95\n",
      "     Keyword       0.25      0.93      0.39        15\n",
      "\n",
      "    accuracy                           0.81      3095\n",
      "   macro avg       0.75      0.83      0.75      3095\n",
      "weighted avg       0.82      0.81      0.79      3095\n",
      "\n"
     ]
    }
   ],
   "source": [
    "print(classification_report(predictions_train, y_train))"
   ]
  },
  {
   "cell_type": "code",
   "execution_count": 276,
   "id": "42598e17",
   "metadata": {},
   "outputs": [
    {
     "name": "stderr",
     "output_type": "stream",
     "text": [
      "[Parallel(n_jobs=12)]: Using backend ThreadingBackend with 12 concurrent workers.\n",
      "[Parallel(n_jobs=12)]: Done  26 tasks      | elapsed:    0.0s\n",
      "[Parallel(n_jobs=12)]: Done 176 tasks      | elapsed:    0.0s\n",
      "[Parallel(n_jobs=12)]: Done 426 tasks      | elapsed:    0.2s\n",
      "[Parallel(n_jobs=12)]: Done 776 tasks      | elapsed:    0.5s\n",
      "[Parallel(n_jobs=12)]: Done 1000 out of 1000 | elapsed:    0.6s finished\n"
     ]
    }
   ],
   "source": [
    "predictions_test = textclassifier.predict(X_test)"
   ]
  },
  {
   "cell_type": "code",
   "execution_count": 277,
   "id": "e88e4861",
   "metadata": {},
   "outputs": [
    {
     "name": "stdout",
     "output_type": "stream",
     "text": [
      "              precision    recall  f1-score   support\n",
      "\n",
      "    Calendar       0.84      0.91      0.87       203\n",
      "     Contact       0.60      0.63      0.62       133\n",
      "    Contract       0.85      0.98      0.91       393\n",
      "    Document       0.80      0.36      0.50       250\n",
      "       Email       0.80      0.91      0.85       303\n",
      "    Employee       1.00      0.88      0.93        40\n",
      "     Keyword       0.09      0.40      0.14         5\n",
      "\n",
      "    accuracy                           0.80      1327\n",
      "   macro avg       0.71      0.72      0.69      1327\n",
      "weighted avg       0.80      0.80      0.78      1327\n",
      "\n"
     ]
    },
    {
     "data": {
      "text/plain": [
       "<AxesSubplot:title={'center':'Confusion Matrix'}, xlabel='Predicted label', ylabel='True label'>"
      ]
     },
     "execution_count": 277,
     "metadata": {},
     "output_type": "execute_result"
    },
    {
     "data": {
      "image/png": "[encoded data removed]",
      "text/plain": [
       "<Figure size 720x504 with 2 Axes>"
      ]
     },
     "metadata": {
      "needs_background": "light"
     },
     "output_type": "display_data"
    }
   ],
   "source": [
    "print(classification_report(predictions_test, y_test))\n",
    "skplt.plot_confusion_matrix(y_test, predictions_test,figsize=(10,7))"
   ]
  },
  {
   "cell_type": "markdown",
   "id": "2c3e7a15",
   "metadata": {},
   "source": [
    "# Random Forest with Mean Embedded Vectorizer (Avg w2vec)"
   ]
  },
  {
   "cell_type": "code",
   "execution_count": 278,
   "id": "18440c27",
   "metadata": {},
   "outputs": [],
   "source": [
    "textclassifier =Pipeline([\n",
    "  ('vect', MeanEmbeddingVectorizer(w2vec)),\n",
    "    ('trans', TfidfTransformer()),\n",
    "   ('ro', SMOTE(random_state=12)),\n",
    "   ('mnb', RandomForestClassifier(n_estimators=1000, max_depth=5, verbose=1, n_jobs=-1))\n",
    "])"
   ]
  },
  {
   "cell_type": "code",
   "execution_count": 279,
   "id": "5e383349",
   "metadata": {},
   "outputs": [
    {
     "name": "stderr",
     "output_type": "stream",
     "text": [
      "[Parallel(n_jobs=-1)]: Using backend ThreadingBackend with 12 concurrent workers.\n",
      "[Parallel(n_jobs=-1)]: Done  26 tasks      | elapsed:    0.2s\n",
      "[Parallel(n_jobs=-1)]: Done 176 tasks      | elapsed:    1.2s\n",
      "[Parallel(n_jobs=-1)]: Done 426 tasks      | elapsed:    2.9s\n",
      "[Parallel(n_jobs=-1)]: Done 776 tasks      | elapsed:    5.2s\n",
      "[Parallel(n_jobs=-1)]: Done 1000 out of 1000 | elapsed:    6.7s finished\n"
     ]
    },
    {
     "data": {
      "text/plain": [
       "Pipeline(steps=[('vect',\n",
       "                 <__main__.MeanEmbeddingVectorizer object at 0x000001DD05493850>),\n",
       "                ('trans', TfidfTransformer()), ('ro', SMOTE(random_state=12)),\n",
       "                ('mnb',\n",
       "                 RandomForestClassifier(max_depth=5, n_estimators=1000,\n",
       "                                        n_jobs=-1, verbose=1))])"
      ]
     },
     "execution_count": 279,
     "metadata": {},
     "output_type": "execute_result"
    }
   ],
   "source": [
    "textclassifier.fit(X_train, y_train)"
   ]
  },
  {
   "cell_type": "code",
   "execution_count": 280,
   "id": "47d74970",
   "metadata": {},
   "outputs": [
    {
     "name": "stderr",
     "output_type": "stream",
     "text": [
      "[Parallel(n_jobs=12)]: Using backend ThreadingBackend with 12 concurrent workers.\n",
      "[Parallel(n_jobs=12)]: Done  26 tasks      | elapsed:    0.0s\n",
      "[Parallel(n_jobs=12)]: Done 176 tasks      | elapsed:    0.1s\n",
      "[Parallel(n_jobs=12)]: Done 426 tasks      | elapsed:    0.2s\n",
      "[Parallel(n_jobs=12)]: Done 776 tasks      | elapsed:    0.5s\n",
      "[Parallel(n_jobs=12)]: Done 1000 out of 1000 | elapsed:    0.7s finished\n"
     ]
    }
   ],
   "source": [
    "predictions_train = textclassifier.predict(X_train)"
   ]
  },
  {
   "cell_type": "code",
   "execution_count": 281,
   "id": "8e799dba",
   "metadata": {},
   "outputs": [
    {
     "name": "stdout",
     "output_type": "stream",
     "text": [
      "              precision    recall  f1-score   support\n",
      "\n",
      "    Calendar       0.78      0.89      0.83       473\n",
      "     Contact       0.75      0.48      0.58       477\n",
      "    Contract       0.87      0.97      0.91       934\n",
      "    Document       0.30      0.90      0.45        86\n",
      "       Email       0.88      0.89      0.89       795\n",
      "    Employee       1.00      0.53      0.69       172\n",
      "     Keyword       0.86      0.30      0.45       158\n",
      "\n",
      "    accuracy                           0.80      3095\n",
      "   macro avg       0.78      0.71      0.69      3095\n",
      "weighted avg       0.83      0.80      0.79      3095\n",
      "\n"
     ]
    }
   ],
   "source": [
    "print(classification_report(predictions_train, y_train))"
   ]
  },
  {
   "cell_type": "code",
   "execution_count": 282,
   "id": "4aa860aa",
   "metadata": {},
   "outputs": [
    {
     "name": "stderr",
     "output_type": "stream",
     "text": [
      "[Parallel(n_jobs=12)]: Using backend ThreadingBackend with 12 concurrent workers.\n",
      "[Parallel(n_jobs=12)]: Done  26 tasks      | elapsed:    0.0s\n",
      "[Parallel(n_jobs=12)]: Done 176 tasks      | elapsed:    0.0s\n",
      "[Parallel(n_jobs=12)]: Done 426 tasks      | elapsed:    0.2s\n",
      "[Parallel(n_jobs=12)]: Done 776 tasks      | elapsed:    0.5s\n",
      "[Parallel(n_jobs=12)]: Done 1000 out of 1000 | elapsed:    0.7s finished\n"
     ]
    }
   ],
   "source": [
    "predictions_test = textclassifier.predict(X_test)"
   ]
  },
  {
   "cell_type": "code",
   "execution_count": 283,
   "id": "450a2364",
   "metadata": {},
   "outputs": [
    {
     "name": "stdout",
     "output_type": "stream",
     "text": [
      "              precision    recall  f1-score   support\n",
      "\n",
      "    Calendar       0.78      0.86      0.82       197\n",
      "     Contact       0.70      0.46      0.56       211\n",
      "    Contract       0.85      0.96      0.90       401\n",
      "    Document       0.15      0.74      0.25        23\n",
      "       Email       0.87      0.85      0.86       350\n",
      "    Employee       1.00      0.48      0.65        73\n",
      "     Keyword       0.70      0.22      0.34        72\n",
      "\n",
      "    accuracy                           0.77      1327\n",
      "   macro avg       0.72      0.65      0.62      1327\n",
      "weighted avg       0.81      0.77      0.77      1327\n",
      "\n"
     ]
    },
    {
     "data": {
      "text/plain": [
       "<AxesSubplot:title={'center':'Confusion Matrix'}, xlabel='Predicted label', ylabel='True label'>"
      ]
     },
     "execution_count": 283,
     "metadata": {},
     "output_type": "execute_result"
    },
    {
     "data": {
      "image/png": "[encoded data removed]",
      "text/plain": [
       "<Figure size 720x504 with 2 Axes>"
      ]
     },
     "metadata": {
      "needs_background": "light"
     },
     "output_type": "display_data"
    }
   ],
   "source": [
    "print(classification_report(predictions_test, y_test))\n",
    "skplt.plot_confusion_matrix(y_test, predictions_test,figsize=(10,7))"
   ]
  },
  {
   "cell_type": "markdown",
   "id": "e41e6aba",
   "metadata": {},
   "source": [
    "# Random Forest with Tfidf Embedded Vectorizer (Tfidf weighted w2vec)"
   ]
  },
  {
   "cell_type": "code",
   "execution_count": 284,
   "id": "70f6451c",
   "metadata": {},
   "outputs": [],
   "source": [
    "textclassifier =Pipeline([\n",
    "  ('vect', TfidfEmbeddingVectorizer(w2vec).fit(X_train, None)),\n",
    "    ('trans', TfidfTransformer()),\n",
    "   ('ro', SMOTE(random_state=12)),\n",
    "   ('mnb', RandomForestClassifier(n_estimators=1000, max_depth=5, verbose=1, n_jobs=-1))\n",
    "])"
   ]
  },
  {
   "cell_type": "code",
   "execution_count": 285,
   "id": "cbf7fc08",
   "metadata": {},
   "outputs": [
    {
     "name": "stderr",
     "output_type": "stream",
     "text": [
      "[Parallel(n_jobs=-1)]: Using backend ThreadingBackend with 12 concurrent workers.\n",
      "[Parallel(n_jobs=-1)]: Done  26 tasks      | elapsed:    0.2s\n",
      "[Parallel(n_jobs=-1)]: Done 176 tasks      | elapsed:    1.2s\n",
      "[Parallel(n_jobs=-1)]: Done 426 tasks      | elapsed:    2.9s\n",
      "[Parallel(n_jobs=-1)]: Done 776 tasks      | elapsed:    5.3s\n",
      "[Parallel(n_jobs=-1)]: Done 1000 out of 1000 | elapsed:    6.8s finished\n"
     ]
    },
    {
     "data": {
      "text/plain": [
       "Pipeline(steps=[('vect',\n",
       "                 <__main__.TfidfEmbeddingVectorizer object at 0x000001DD05478850>),\n",
       "                ('trans', TfidfTransformer()), ('ro', SMOTE(random_state=12)),\n",
       "                ('mnb',\n",
       "                 RandomForestClassifier(max_depth=5, n_estimators=1000,\n",
       "                                        n_jobs=-1, verbose=1))])"
      ]
     },
     "execution_count": 285,
     "metadata": {},
     "output_type": "execute_result"
    }
   ],
   "source": [
    "textclassifier.fit(X_train, y_train)"
   ]
  },
  {
   "cell_type": "code",
   "execution_count": 286,
   "id": "382e6b7e",
   "metadata": {},
   "outputs": [
    {
     "name": "stderr",
     "output_type": "stream",
     "text": [
      "[Parallel(n_jobs=12)]: Using backend ThreadingBackend with 12 concurrent workers.\n",
      "[Parallel(n_jobs=12)]: Done  26 tasks      | elapsed:    0.0s\n",
      "[Parallel(n_jobs=12)]: Done 176 tasks      | elapsed:    0.1s\n",
      "[Parallel(n_jobs=12)]: Done 426 tasks      | elapsed:    0.3s\n",
      "[Parallel(n_jobs=12)]: Done 776 tasks      | elapsed:    0.6s\n",
      "[Parallel(n_jobs=12)]: Done 1000 out of 1000 | elapsed:    0.8s finished\n"
     ]
    }
   ],
   "source": [
    "predictions_train = textclassifier.predict(X_train)"
   ]
  },
  {
   "cell_type": "code",
   "execution_count": 287,
   "id": "761e7d23",
   "metadata": {},
   "outputs": [
    {
     "name": "stdout",
     "output_type": "stream",
     "text": [
      "              precision    recall  f1-score   support\n",
      "\n",
      "    Calendar       0.78      0.89      0.83       474\n",
      "     Contact       0.74      0.47      0.58       479\n",
      "    Contract       0.85      0.97      0.91       910\n",
      "    Document       0.32      0.90      0.47        91\n",
      "       Email       0.88      0.88      0.88       800\n",
      "    Employee       1.00      0.50      0.66       183\n",
      "     Keyword       0.86      0.30      0.45       158\n",
      "\n",
      "    accuracy                           0.79      3095\n",
      "   macro avg       0.77      0.70      0.68      3095\n",
      "weighted avg       0.82      0.79      0.79      3095\n",
      "\n"
     ]
    }
   ],
   "source": [
    "print(classification_report(predictions_train, y_train))"
   ]
  },
  {
   "cell_type": "code",
   "execution_count": 288,
   "id": "ec186dfa",
   "metadata": {},
   "outputs": [
    {
     "name": "stderr",
     "output_type": "stream",
     "text": [
      "[Parallel(n_jobs=12)]: Using backend ThreadingBackend with 12 concurrent workers.\n",
      "[Parallel(n_jobs=12)]: Done  26 tasks      | elapsed:    0.0s\n",
      "[Parallel(n_jobs=12)]: Done 176 tasks      | elapsed:    0.0s\n",
      "[Parallel(n_jobs=12)]: Done 426 tasks      | elapsed:    0.2s\n",
      "[Parallel(n_jobs=12)]: Done 776 tasks      | elapsed:    0.5s\n",
      "[Parallel(n_jobs=12)]: Done 1000 out of 1000 | elapsed:    0.7s finished\n"
     ]
    }
   ],
   "source": [
    "predictions_test = textclassifier.predict(X_test)"
   ]
  },
  {
   "cell_type": "code",
   "execution_count": 289,
   "id": "8037280e",
   "metadata": {},
   "outputs": [
    {
     "name": "stdout",
     "output_type": "stream",
     "text": [
      "              precision    recall  f1-score   support\n",
      "\n",
      "    Calendar       0.78      0.86      0.82       198\n",
      "     Contact       0.69      0.45      0.54       216\n",
      "    Contract       0.83      0.96      0.89       396\n",
      "    Document       0.15      0.81      0.25        21\n",
      "       Email       0.86      0.85      0.86       350\n",
      "    Employee       1.00      0.47      0.64        74\n",
      "     Keyword       0.70      0.22      0.34        72\n",
      "\n",
      "    accuracy                           0.76      1327\n",
      "   macro avg       0.72      0.66      0.62      1327\n",
      "weighted avg       0.80      0.76      0.76      1327\n",
      "\n"
     ]
    },
    {
     "data": {
      "text/plain": [
       "<AxesSubplot:title={'center':'Confusion Matrix'}, xlabel='Predicted label', ylabel='True label'>"
      ]
     },
     "execution_count": 289,
     "metadata": {},
     "output_type": "execute_result"
    },
    {
     "data": {
      "image/png": "[encoded data removed]",
      "text/plain": [
       "<Figure size 720x504 with 2 Axes>"
      ]
     },
     "metadata": {
      "needs_background": "light"
     },
     "output_type": "display_data"
    }
   ],
   "source": [
    "print(classification_report(predictions_test, y_test))\n",
    "skplt.plot_confusion_matrix(y_test, predictions_test,figsize=(10,7))"
   ]
  },
  {
   "cell_type": "markdown",
   "id": "e086eab4",
   "metadata": {},
   "source": [
    "# SVM with BoW vector"
   ]
  },
  {
   "cell_type": "code",
   "execution_count": 290,
   "id": "d7dc72bd",
   "metadata": {},
   "outputs": [],
   "source": [
    "textclassifier =Pipeline([\n",
    "  ('vect', CountVectorizer()),\n",
    "   ('ro', SMOTE(random_state=42)),\n",
    "   ('mnb', SVC(kernel='linear', probability=True))\n",
    "])"
   ]
  },
  {
   "cell_type": "code",
   "execution_count": 291,
   "id": "6c2f2f87",
   "metadata": {},
   "outputs": [
    {
     "data": {
      "text/plain": [
       "Pipeline(steps=[('vect', CountVectorizer()), ('ro', SMOTE(random_state=42)),\n",
       "                ('mnb', SVC(kernel='linear', probability=True))])"
      ]
     },
     "execution_count": 291,
     "metadata": {},
     "output_type": "execute_result"
    }
   ],
   "source": [
    "textclassifier.fit(X_train, y_train)"
   ]
  },
  {
   "cell_type": "code",
   "execution_count": 292,
   "id": "00652f27",
   "metadata": {},
   "outputs": [],
   "source": [
    "predictions_train = textclassifier.predict(X_train)"
   ]
  },
  {
   "cell_type": "code",
   "execution_count": 293,
   "id": "c34a8317",
   "metadata": {},
   "outputs": [
    {
     "name": "stdout",
     "output_type": "stream",
     "text": [
      "              precision    recall  f1-score   support\n",
      "\n",
      "    Calendar       0.99      0.99      0.99       539\n",
      "     Contact       0.98      0.91      0.95       325\n",
      "    Contract       0.99      1.00      0.99      1029\n",
      "    Document       0.97      1.00      0.98       253\n",
      "       Email       0.98      0.99      0.99       799\n",
      "    Employee       1.00      1.00      1.00        91\n",
      "     Keyword       1.00      0.95      0.97        59\n",
      "\n",
      "    accuracy                           0.99      3095\n",
      "   macro avg       0.99      0.98      0.98      3095\n",
      "weighted avg       0.99      0.99      0.99      3095\n",
      "\n"
     ]
    }
   ],
   "source": [
    "print(classification_report(predictions_train, y_train))"
   ]
  },
  {
   "cell_type": "code",
   "execution_count": 294,
   "id": "5c7254cc",
   "metadata": {},
   "outputs": [],
   "source": [
    "predictions_test = textclassifier.predict(X_test)"
   ]
  },
  {
   "cell_type": "code",
   "execution_count": 295,
   "id": "c9d9d41d",
   "metadata": {
    "scrolled": true
   },
   "outputs": [
    {
     "name": "stdout",
     "output_type": "stream",
     "text": [
      "              precision    recall  f1-score   support\n",
      "\n",
      "    Calendar       0.93      0.96      0.95       211\n",
      "     Contact       0.84      0.72      0.77       163\n",
      "    Contract       0.96      1.00      0.98       435\n",
      "    Document       0.40      0.90      0.55        50\n",
      "       Email       0.93      0.94      0.94       342\n",
      "    Employee       1.00      0.97      0.99        36\n",
      "     Keyword       0.74      0.19      0.30        90\n",
      "\n",
      "    accuracy                           0.88      1327\n",
      "   macro avg       0.83      0.81      0.78      1327\n",
      "weighted avg       0.90      0.88      0.87      1327\n",
      "\n"
     ]
    },
    {
     "data": {
      "text/plain": [
       "<AxesSubplot:title={'center':'Confusion Matrix'}, xlabel='Predicted label', ylabel='True label'>"
      ]
     },
     "execution_count": 295,
     "metadata": {},
     "output_type": "execute_result"
    },
    {
     "data": {
      "image/png": "[encoded data removed]",
      "text/plain": [
       "<Figure size 720x504 with 2 Axes>"
      ]
     },
     "metadata": {
      "needs_background": "light"
     },
     "output_type": "display_data"
    }
   ],
   "source": [
    "print(classification_report(predictions_test, y_test))\n",
    "skplt.plot_confusion_matrix(y_test, predictions_test,figsize=(10,7))"
   ]
  },
  {
   "cell_type": "markdown",
   "id": "f0491a82",
   "metadata": {},
   "source": [
    "# SVM with TF-IDF"
   ]
  },
  {
   "cell_type": "code",
   "execution_count": 296,
   "id": "d4ad000e",
   "metadata": {},
   "outputs": [],
   "source": [
    "textclassifier =Pipeline([\n",
    "  ('vect', TfidfVectorizer()),\n",
    "   ('ro', SMOTE(random_state=12)),\n",
    "   ('mnb', SVC(kernel='linear', probability=True))\n",
    "])"
   ]
  },
  {
   "cell_type": "code",
   "execution_count": 297,
   "id": "f28fd276",
   "metadata": {
    "scrolled": true
   },
   "outputs": [
    {
     "data": {
      "text/plain": [
       "Pipeline(steps=[('vect', TfidfVectorizer()), ('ro', SMOTE(random_state=12)),\n",
       "                ('mnb', SVC(kernel='linear', probability=True))])"
      ]
     },
     "execution_count": 297,
     "metadata": {},
     "output_type": "execute_result"
    }
   ],
   "source": [
    "textclassifier.fit(X_train, y_train)"
   ]
  },
  {
   "cell_type": "code",
   "execution_count": 298,
   "id": "36addd09",
   "metadata": {},
   "outputs": [],
   "source": [
    "predictions_train = textclassifier.predict(X_train)"
   ]
  },
  {
   "cell_type": "code",
   "execution_count": 299,
   "id": "40ab5173",
   "metadata": {},
   "outputs": [
    {
     "name": "stdout",
     "output_type": "stream",
     "text": [
      "              precision    recall  f1-score   support\n",
      "\n",
      "    Calendar       0.99      0.99      0.99       536\n",
      "     Contact       0.99      0.92      0.95       324\n",
      "    Contract       0.99      1.00      1.00      1036\n",
      "    Document       0.98      0.99      0.98       257\n",
      "       Email       0.97      0.99      0.98       790\n",
      "    Employee       1.00      1.00      1.00        91\n",
      "     Keyword       1.00      0.92      0.96        61\n",
      "\n",
      "    accuracy                           0.98      3095\n",
      "   macro avg       0.99      0.97      0.98      3095\n",
      "weighted avg       0.98      0.98      0.98      3095\n",
      "\n"
     ]
    }
   ],
   "source": [
    "print(classification_report(predictions_train, y_train))"
   ]
  },
  {
   "cell_type": "code",
   "execution_count": 300,
   "id": "3c53639e",
   "metadata": {},
   "outputs": [],
   "source": [
    "predictions_test = textclassifier.predict(X_test)"
   ]
  },
  {
   "cell_type": "code",
   "execution_count": 301,
   "id": "55f81fb8",
   "metadata": {},
   "outputs": [
    {
     "name": "stdout",
     "output_type": "stream",
     "text": [
      "              precision    recall  f1-score   support\n",
      "\n",
      "    Calendar       0.93      0.98      0.95       208\n",
      "     Contact       0.88      0.83      0.85       148\n",
      "    Contract       0.98      0.98      0.98       456\n",
      "    Document       0.76      0.77      0.76       112\n",
      "       Email       0.95      0.92      0.94       356\n",
      "    Employee       1.00      0.97      0.99        36\n",
      "     Keyword       0.13      0.27      0.18        11\n",
      "\n",
      "    accuracy                           0.92      1327\n",
      "   macro avg       0.81      0.82      0.81      1327\n",
      "weighted avg       0.93      0.92      0.93      1327\n",
      "\n"
     ]
    },
    {
     "data": {
      "text/plain": [
       "<AxesSubplot:title={'center':'Confusion Matrix'}, xlabel='Predicted label', ylabel='True label'>"
      ]
     },
     "execution_count": 301,
     "metadata": {},
     "output_type": "execute_result"
    },
    {
     "data": {
      "image/png": "[encoded data removed]",
      "text/plain": [
       "<Figure size 720x504 with 2 Axes>"
      ]
     },
     "metadata": {
      "needs_background": "light"
     },
     "output_type": "display_data"
    }
   ],
   "source": [
    "print(classification_report(predictions_test, y_test))\n",
    "skplt.plot_confusion_matrix(y_test, predictions_test,figsize=(10,7))"
   ]
  },
  {
   "cell_type": "markdown",
   "id": "00914d9f",
   "metadata": {},
   "source": [
    "# SVM with Mean Embedded Vector"
   ]
  },
  {
   "cell_type": "code",
   "execution_count": 302,
   "id": "f4979a1a",
   "metadata": {},
   "outputs": [],
   "source": [
    "textclassifier_svm =Pipeline([\n",
    "  ('vect', MeanEmbeddingVectorizer(w2vec)),\n",
    "   ('ro', SMOTE(random_state=42)),\n",
    "   ('mnb', SVC(kernel='linear', probability=True))\n",
    "])"
   ]
  },
  {
   "cell_type": "code",
   "execution_count": 303,
   "id": "55a1050a",
   "metadata": {},
   "outputs": [
    {
     "data": {
      "text/plain": [
       "Pipeline(steps=[('vect',\n",
       "                 <__main__.MeanEmbeddingVectorizer object at 0x000001DD05A26CD0>),\n",
       "                ('ro', SMOTE(random_state=42)),\n",
       "                ('mnb', SVC(kernel='linear', probability=True))])"
      ]
     },
     "execution_count": 303,
     "metadata": {},
     "output_type": "execute_result"
    }
   ],
   "source": [
    "textclassifier_svm.fit(X_train, y_train)"
   ]
  },
  {
   "cell_type": "code",
   "execution_count": 304,
   "id": "2e71f99c",
   "metadata": {},
   "outputs": [],
   "source": [
    "predictions_train = textclassifier_svm.predict(X_train)"
   ]
  },
  {
   "cell_type": "code",
   "execution_count": 305,
   "id": "d742454e",
   "metadata": {},
   "outputs": [
    {
     "name": "stdout",
     "output_type": "stream",
     "text": [
      "              precision    recall  f1-score   support\n",
      "\n",
      "    Calendar       0.63      0.88      0.74       385\n",
      "     Contact       0.63      0.34      0.44       551\n",
      "    Contract       0.77      0.97      0.86       830\n",
      "    Document       0.25      0.29      0.27       228\n",
      "       Email       0.74      0.88      0.80       680\n",
      "    Employee       0.96      0.40      0.56       220\n",
      "     Keyword       0.86      0.24      0.37       201\n",
      "\n",
      "    accuracy                           0.69      3095\n",
      "   macro avg       0.69      0.57      0.58      3095\n",
      "weighted avg       0.70      0.69      0.66      3095\n",
      "\n"
     ]
    }
   ],
   "source": [
    "print(classification_report(predictions_train, y_train))"
   ]
  },
  {
   "cell_type": "code",
   "execution_count": 306,
   "id": "84190670",
   "metadata": {},
   "outputs": [],
   "source": [
    "predictions_test = textclassifier_svm.predict(X_test)"
   ]
  },
  {
   "cell_type": "code",
   "execution_count": 307,
   "id": "4ca1a305",
   "metadata": {},
   "outputs": [
    {
     "name": "stdout",
     "output_type": "stream",
     "text": [
      "              precision    recall  f1-score   support\n",
      "\n",
      "    Calendar       0.66      0.89      0.76       160\n",
      "     Contact       0.61      0.36      0.45       239\n",
      "    Contract       0.76      0.97      0.85       354\n",
      "    Document       0.25      0.31      0.28        90\n",
      "       Email       0.76      0.89      0.82       295\n",
      "    Employee       0.97      0.35      0.52        96\n",
      "     Keyword       0.70      0.17      0.28        93\n",
      "\n",
      "    accuracy                           0.69      1327\n",
      "   macro avg       0.67      0.56      0.57      1327\n",
      "weighted avg       0.70      0.69      0.66      1327\n",
      "\n"
     ]
    },
    {
     "data": {
      "text/plain": [
       "<AxesSubplot:title={'center':'Confusion Matrix'}, xlabel='Predicted label', ylabel='True label'>"
      ]
     },
     "execution_count": 307,
     "metadata": {},
     "output_type": "execute_result"
    },
    {
     "data": {
      "image/png": "[encoded data removed]",
      "text/plain": [
       "<Figure size 720x504 with 2 Axes>"
      ]
     },
     "metadata": {
      "needs_background": "light"
     },
     "output_type": "display_data"
    }
   ],
   "source": [
    "print(classification_report(predictions_test, y_test))\n",
    "skplt.plot_confusion_matrix(y_test, predictions_test,figsize=(10,7))"
   ]
  },
  {
   "cell_type": "markdown",
   "id": "82678ae7",
   "metadata": {},
   "source": [
    "# SVM with Tfidf Embedded Vectorizer"
   ]
  },
  {
   "cell_type": "code",
   "execution_count": 308,
   "id": "05f876ba",
   "metadata": {},
   "outputs": [],
   "source": [
    "textclassifier =Pipeline([\n",
    "  ('vect', TfidfEmbeddingVectorizer(w2vec).fit(X_train,None)),\n",
    "   ('ro', SMOTE(random_state=12)),\n",
    "   ('mnb', SVC(kernel='linear', probability=True))\n",
    "])"
   ]
  },
  {
   "cell_type": "code",
   "execution_count": 309,
   "id": "1725f5e4",
   "metadata": {},
   "outputs": [
    {
     "data": {
      "text/plain": [
       "Pipeline(steps=[('vect',\n",
       "                 <__main__.TfidfEmbeddingVectorizer object at 0x000001DD05ABE580>),\n",
       "                ('ro', SMOTE(random_state=12)),\n",
       "                ('mnb', SVC(kernel='linear', probability=True))])"
      ]
     },
     "execution_count": 309,
     "metadata": {},
     "output_type": "execute_result"
    }
   ],
   "source": [
    "textclassifier.fit(X_train, y_train)"
   ]
  },
  {
   "cell_type": "code",
   "execution_count": 310,
   "id": "f14d27c2",
   "metadata": {},
   "outputs": [],
   "source": [
    "predictions_train = textclassifier.predict(X_train)"
   ]
  },
  {
   "cell_type": "code",
   "execution_count": 311,
   "id": "e59bf2ab",
   "metadata": {},
   "outputs": [
    {
     "name": "stdout",
     "output_type": "stream",
     "text": [
      "              precision    recall  f1-score   support\n",
      "\n",
      "    Calendar       0.84      0.89      0.87       508\n",
      "     Contact       0.79      0.65      0.71       372\n",
      "    Contract       0.89      0.97      0.93       955\n",
      "    Document       0.43      0.53      0.48       211\n",
      "       Email       0.85      0.92      0.88       749\n",
      "    Employee       0.97      0.75      0.85       117\n",
      "     Keyword       0.93      0.28      0.44       183\n",
      "\n",
      "    accuracy                           0.83      3095\n",
      "   macro avg       0.81      0.71      0.74      3095\n",
      "weighted avg       0.83      0.83      0.82      3095\n",
      "\n"
     ]
    }
   ],
   "source": [
    "print(classification_report(predictions_train, y_train))"
   ]
  },
  {
   "cell_type": "code",
   "execution_count": 312,
   "id": "c5c687a9",
   "metadata": {},
   "outputs": [],
   "source": [
    "predictions_test = textclassifier.predict(X_test)\n"
   ]
  },
  {
   "cell_type": "code",
   "execution_count": 313,
   "id": "730532e1",
   "metadata": {},
   "outputs": [
    {
     "name": "stdout",
     "output_type": "stream",
     "text": [
      "              precision    recall  f1-score   support\n",
      "\n",
      "    Calendar       0.85      0.86      0.85       215\n",
      "     Contact       0.68      0.58      0.62       164\n",
      "    Contract       0.85      0.98      0.91       395\n",
      "    Document       0.36      0.47      0.41        87\n",
      "       Email       0.87      0.90      0.88       332\n",
      "    Employee       0.94      0.67      0.79        49\n",
      "     Keyword       0.74      0.20      0.31        85\n",
      "\n",
      "    accuracy                           0.80      1327\n",
      "   macro avg       0.76      0.67      0.68      1327\n",
      "weighted avg       0.80      0.80      0.78      1327\n",
      "\n"
     ]
    },
    {
     "data": {
      "text/plain": [
       "<AxesSubplot:title={'center':'Confusion Matrix'}, xlabel='Predicted label', ylabel='True label'>"
      ]
     },
     "execution_count": 313,
     "metadata": {},
     "output_type": "execute_result"
    },
    {
     "data": {
      "image/png": "[encoded data removed]",
      "text/plain": [
       "<Figure size 720x504 with 2 Axes>"
      ]
     },
     "metadata": {
      "needs_background": "light"
     },
     "output_type": "display_data"
    }
   ],
   "source": [
    "import matplotlib.pyplot as plt\n",
    "print(classification_report(predictions_test, y_test))\n",
    "#print(classification_report(prediction_instance, ))\n",
    "skplt.plot_confusion_matrix(y_test, predictions_test,figsize=(10,7))"
   ]
  },
  {
   "cell_type": "markdown",
   "id": "57eb6a34",
   "metadata": {},
   "source": [
    "# Observations\n",
    "\n",
    "Below table presents the train and test accuracy of all the classifiers with ther vector representation\n",
    "\n",
    "| Classifier | vector representation | Train Accuracy | Test Accuracy\n",
    "| :- | -: | :-: | :-: |\n",
    "| Logistic Rgression| BoW | 0.98 | 0.92\n",
    "|                   | TF-IDF | 0.98 | 0.92\n",
    "|                   | Mean Embedded w2v | 0.72 | 0.72\n",
    "|                   | Tfidf Embedded w2v | 0.98 | 0.75\n",
    "| Random Forest     | BoW | 0.79 | 77\n",
    "|                   | TF-IDF | 0.82 | 0.80\n",
    "|                   | Mean Embedded w2v | 0.80 | 0.79\n",
    "|                   | Tfidf Embedded w2v | 0.81 |0.78\n",
    "| SVM               | BoW | 0.99 | 0.91\n",
    "|                   | TF-TDF | 0.99 | 0.93\n",
    "|                   | Mean Embedded w2v | 0.72 | 0.70\n",
    "|                   | Tfidf Embedded w2v | 0.82 | 0.79\n",
    "\n",
    "1) It can be observe that both LR and SVM performs well with Bow and TF-TDF vector representation\n",
    "\n",
    "2) Wheareas RF seems to be good choice if Mean embedded and Tfidf Ebedded vectorize represention is used to pass to the model, as it ourperforms both LR and SVM \n",
    "\n",
    "3) SVM also performs well with Tfidf vecotrize representaion"
   ]
  },
  {
   "cell_type": "markdown",
   "id": "7326ec8c",
   "metadata": {},
   "source": [
    "# LSTM Model"
   ]
  },
  {
   "cell_type": "markdown",
   "id": "fcbb38ce",
   "metadata": {},
   "source": [
    "# Text Preprocessing required for LSTM"
   ]
  },
  {
   "cell_type": "code",
   "execution_count": 29,
   "id": "2475fdec",
   "metadata": {},
   "outputs": [
    {
     "name": "stdout",
     "output_type": "stream",
     "text": [
      "3095\n",
      "Found 1538 unique tokens.\n"
     ]
    }
   ],
   "source": [
    "# The maximum number of words to be used. (most frequent)\n",
    "TOTAL_NOS_WORDS = 4000\n",
    "# Max number of words in each complaint.\n",
    "MAX_LENGTH_SEQUENCE = 141\n",
    "# This is fixed.\n",
    "EMBEDDING_DIMENSION = 100\n",
    "X_train_length = X_train.apply(len)\n",
    "X_train_length.max()\n",
    "count = X_train.str.split().apply(len).value_counts()\n",
    "print(count.sum())\n",
    "tokenizer = keras.preprocessing.text.Tokenizer(num_words=TOTAL_NOS_WORDS, filters='!\"#$%&()*+,-./:;<=>?@[\\]^_`{|}~', lower=True)\n",
    "tokenizer.fit_on_texts(X_train.values)\n",
    "word_index = tokenizer.word_index\n",
    "print('Found %s unique tokens.' % len(word_index))"
   ]
  },
  {
   "cell_type": "code",
   "execution_count": 30,
   "id": "8baa86a0",
   "metadata": {},
   "outputs": [
    {
     "name": "stdout",
     "output_type": "stream",
     "text": [
      "Found 1044 unique tokens.\n"
     ]
    }
   ],
   "source": [
    "#Preprocessing for test data\n",
    "Tcount = X_test.str.split().apply(len).value_counts()\n",
    "tokenizer = keras.preprocessing.text.Tokenizer(num_words=TOTAL_NOS_WORDS, filters='!\"#$%&()*+,-./:;<=>?@[\\]^_`{|}~', lower=True)\n",
    "tokenizer.fit_on_texts(X_test.values)\n",
    "word_index = tokenizer.word_index\n",
    "print('Found %s unique tokens.' % len(word_index))"
   ]
  },
  {
   "cell_type": "code",
   "execution_count": 31,
   "id": "6288e474",
   "metadata": {},
   "outputs": [
    {
     "name": "stdout",
     "output_type": "stream",
     "text": [
      "Shape of data tensor: (1327, 141)\n"
     ]
    }
   ],
   "source": [
    "#Preprocessing on test set\n",
    "from tensorflow.keras import preprocessing\n",
    "X_test_vec = tokenizer.texts_to_sequences(X_test.values)\n",
    "X_test_vec = preprocessing.sequence.pad_sequences(X_test_vec, maxlen=MAX_LENGTH_SEQUENCE)\n",
    "print('Shape of data tensor:', X_test_vec.shape)"
   ]
  },
  {
   "cell_type": "code",
   "execution_count": 32,
   "id": "ac89cdfe",
   "metadata": {},
   "outputs": [
    {
     "name": "stdout",
     "output_type": "stream",
     "text": [
      "Shape of data tensor: (3095, 141)\n"
     ]
    }
   ],
   "source": [
    "#Vectorizing training data\n",
    "from tensorflow.keras import preprocessing as prep\n",
    "X = tokenizer.texts_to_sequences(X_train.values)\n",
    "X = prep.sequence.pad_sequences(X, maxlen=MAX_LENGTH_SEQUENCE)\n",
    "print('Shape of data tensor:', X.shape)"
   ]
  },
  {
   "cell_type": "code",
   "execution_count": 33,
   "id": "8476b373",
   "metadata": {},
   "outputs": [
    {
     "name": "stdout",
     "output_type": "stream",
     "text": [
      "Imbalance Training set shape:- \n",
      "(3095,)\n",
      "Balance Training set shape:- \n",
      "(7238, 141)\n",
      "<class 'numpy.ndarray'>\n"
     ]
    }
   ],
   "source": [
    "#Performing SMOTE Oversampling on train data\n",
    "from sklearn import preprocessing\n",
    "labelEncoder = preprocessing.LabelEncoder()\n",
    "labelEncoder.fit(y_train)\n",
    "y_train_transformed = labelEncoder.transform(y_train)\n",
    "oversample = SMOTE()\n",
    "X_train_bal, y_train_bal = oversample.fit_resample(X, y_train_transformed)\n",
    "print(\"Imbalance Training set shape:- \")\n",
    "print(X_train.shape)\n",
    "print(\"Balance Training set shape:- \")\n",
    "print(X_train_bal.shape)\n",
    "print(type(X_train_bal))"
   ]
  },
  {
   "cell_type": "code",
   "execution_count": 36,
   "id": "dbca379e",
   "metadata": {},
   "outputs": [
    {
     "name": "stdout",
     "output_type": "stream",
     "text": [
      "Imbalance Training set shape:- \n",
      "(1327,)\n",
      "Balance Training set shape:- \n",
      "(3234, 141)\n",
      "<class 'numpy.ndarray'>\n"
     ]
    }
   ],
   "source": [
    "#Performing smote on testing data\n",
    "labelEncoder = preprocessing.LabelEncoder()\n",
    "labelEncoder.fit(y_test)\n",
    "y_test_transformed = labelEncoder.transform(y_test)\n",
    "oversample = RandomOverSampler()\n",
    "X_test_bal, y_test_bal = oversample.fit_resample(X_test_vec, y_test_transformed)\n",
    "print(\"Imbalance Training set shape:- \")\n",
    "print(X_test.shape)\n",
    "print(\"Balance Training set shape:- \")\n",
    "print(X_test_bal.shape)\n",
    "print(type(X_test_bal))"
   ]
  },
  {
   "cell_type": "code",
   "execution_count": 37,
   "id": "9bb6819e",
   "metadata": {},
   "outputs": [
    {
     "name": "stdout",
     "output_type": "stream",
     "text": [
      "Shape of label tensor: (7238, 7)\n",
      "<class 'numpy.ndarray'>\n"
     ]
    }
   ],
   "source": [
    "#As shape of y_train_bal should be 7245*7 i.4 7245 components and 7 is no. of classes but here it is (7245,) improper, \n",
    "#using keras.utils.to_categorical to correct the shape\n",
    "import tensorflow as tf\n",
    "from tensorflow import keras\n",
    "from tensorflow.keras import layers\n",
    "\n",
    "from tensorflow.keras.layers import Embedding, SpatialDropout1D, LSTM, Dense, Activation\n",
    "from tensorflow.keras.callbacks import EarlyStopping\n",
    "Y_train_bal_new = pd.get_dummies(y_train_bal).values\n",
    "print('Shape of label tensor:', Y_train_bal_new.shape)\n",
    "print(type(Y_train_bal_new))"
   ]
  },
  {
   "cell_type": "code",
   "execution_count": 38,
   "id": "1f34a3b6",
   "metadata": {},
   "outputs": [
    {
     "name": "stdout",
     "output_type": "stream",
     "text": [
      "Epoch 1/5\n",
      "102/102 [==============================] - 89s 825ms/step - loss: 1.4829 - accuracy: 0.4734 - val_loss: 2.3581 - val_accuracy: 0.0000e+00\n",
      "Epoch 2/5\n",
      "102/102 [==============================] - 82s 809ms/step - loss: 0.7618 - accuracy: 0.7310 - val_loss: 1.5626 - val_accuracy: 0.0000e+00\n",
      "Epoch 3/5\n",
      "102/102 [==============================] - 84s 826ms/step - loss: 0.5843 - accuracy: 0.7934 - val_loss: 1.2006 - val_accuracy: 0.6575\n",
      "Epoch 4/5\n",
      "102/102 [==============================] - 86s 841ms/step - loss: 0.5071 - accuracy: 0.8144 - val_loss: 1.3077 - val_accuracy: 0.6575\n",
      "Epoch 5/5\n",
      "102/102 [==============================] - 89s 869ms/step - loss: 0.4478 - accuracy: 0.8411 - val_loss: 1.2657 - val_accuracy: 0.6906\n"
     ]
    }
   ],
   "source": [
    "#By Default hidden activationunit is tanh\n",
    "from tensorflow.keras import Sequential\n",
    "model = Sequential()\n",
    "model.add(layers.Embedding(TOTAL_NOS_WORDS, EMBEDDING_DIMENSION, input_length=X.shape[1]))\n",
    "model.add(layers.SpatialDropout1D(0.2))\n",
    "model.add(layers.LSTM(100, dropout=0.2, recurrent_dropout=0.2))\n",
    "model.add(Dense(7, activation='softmax'))\n",
    "model.compile(loss='categorical_crossentropy', optimizer='adam', metrics=['accuracy'])\n",
    "\n",
    "epochs = 5\n",
    "batch_size = 64\n",
    "\n",
    "history = model.fit(X_train_bal, Y_train_bal_new, epochs=epochs, batch_size=batch_size,validation_split=0.1,callbacks=[EarlyStopping(monitor='val_loss', patience=3, min_delta=0.0001)])\n"
   ]
  },
  {
   "cell_type": "code",
   "execution_count": 39,
   "id": "79b40089",
   "metadata": {},
   "outputs": [
    {
     "name": "stdout",
     "output_type": "stream",
     "text": [
      "102/102 [==============================] - 7s 68ms/step - loss: 0.5543 - accuracy: 0.7761\n",
      "Test set\n",
      "  Loss: 0.554\n",
      "  Accuracy: 0.776\n"
     ]
    }
   ],
   "source": [
    "Y_test_encoded = pd.get_dummies(y_test_bal).values\n",
    "accr = model.evaluate(X_test_bal,Y_test_encoded)\n",
    "print('Test set\\n  Loss: {:0.3f}\\n  Accuracy: {:0.3f}'.format(accr[0],accr[1]))"
   ]
  },
  {
   "cell_type": "markdown",
   "id": "76a269d7",
   "metadata": {},
   "source": [
    "# Observation\n",
    "1) Train Accuracy is 83.7 % and Validation acuracy is 63.5%\n",
    "\n",
    "2) Test Accuracy is 78.5 %"
   ]
  },
  {
   "cell_type": "markdown",
   "id": "818df950",
   "metadata": {},
   "source": [
    "# Training and Validation loss in LSTM\n",
    "Comparing the training and validation loss using plot"
   ]
  },
  {
   "cell_type": "code",
   "execution_count": 45,
   "id": "a443b45f",
   "metadata": {},
   "outputs": [
    {
     "data": {
      "image/png": "[encoded data removed]",
      "text/plain": [
       "<Figure size 432x288 with 1 Axes>"
      ]
     },
     "metadata": {
      "needs_background": "light"
     },
     "output_type": "display_data"
    }
   ],
   "source": [
    "plt.title('Loss')\n",
    "plt.plot(history.history['loss'], label='train')\n",
    "plt.plot(history.history['val_loss'], label='test')\n",
    "plt.legend()\n",
    "plt.show();\n"
   ]
  },
  {
   "cell_type": "code",
   "execution_count": null,
   "id": "3a08fbd8",
   "metadata": {},
   "outputs": [],
   "source": []
  }
 ],
 "metadata": {
  "kernelspec": {
   "display_name": "Python 3",
   "language": "python",
   "name": "python3"
  },
  "language_info": {
   "codemirror_mode": {
    "name": "ipython",
    "version": 3
   },
   "file_extension": ".py",
   "mimetype": "text/x-python",
   "name": "python",
   "nbconvert_exporter": "python",
   "pygments_lexer": "ipython3",
   "version": "3.8.8"
  }
 },
 "nbformat": 4,
 "nbformat_minor": 5
}
